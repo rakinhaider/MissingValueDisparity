{
 "cells": [
  {
   "cell_type": "code",
   "execution_count": 1,
   "metadata": {
    "pycharm": {
     "is_executing": true
    }
   },
   "outputs": [],
   "source": [
    "import numpy as np\n",
    "import pandas as pd"
   ]
  },
  {
   "cell_type": "code",
   "execution_count": 2,
   "metadata": {},
   "outputs": [],
   "source": [
    "def load_probabilities(dataset, model_type, uic, pic):\n",
    "    directory = '../outputs/standard/{}/proba/{}/'.format(dataset, model_type)\n",
    "    fname = '{:s}_{:s}_{:.2f}_{:.2f}.tsv'.format(dataset, model_type, uic, pic)\n",
    "    print(directory + fname)\n",
    "    return pd.read_csv(directory+fname, sep='\\t', index_col=0)\n",
    "\n",
    "def load_by_uic(dataset, model_type, pic=0):\n",
    "    dfs = []\n",
    "    for i in range(7):\n",
    "        df = load_probabilities(dataset, model_type, i/10, pic)\n",
    "        dfs.append(df)\n",
    "    return dfs\n",
    "\n",
    "def load_by_pic(dataset, model_type, uic=0):\n",
    "    dfs = []\n",
    "    for i in range(7):\n",
    "        df = load_probabilities(dataset, model_type, uic, i/10)\n",
    "        dfs.append(df)\n",
    "    return dfs"
   ]
  },
  {
   "cell_type": "code",
   "execution_count": 3,
   "metadata": {},
   "outputs": [],
   "source": [
    "dataset = 'compas'\n",
    "model_type = 'lr'"
   ]
  },
  {
   "cell_type": "code",
   "execution_count": 4,
   "metadata": {},
   "outputs": [
    {
     "name": "stdout",
     "output_type": "stream",
     "text": [
      "../outputs/standard/compas/proba/lr/compas_lr_0.00_0.00.tsv\n",
      "../outputs/standard/compas/proba/lr/compas_lr_0.10_0.00.tsv\n",
      "../outputs/standard/compas/proba/lr/compas_lr_0.20_0.00.tsv\n",
      "../outputs/standard/compas/proba/lr/compas_lr_0.30_0.00.tsv\n",
      "../outputs/standard/compas/proba/lr/compas_lr_0.40_0.00.tsv\n",
      "../outputs/standard/compas/proba/lr/compas_lr_0.50_0.00.tsv\n",
      "../outputs/standard/compas/proba/lr/compas_lr_0.60_0.00.tsv\n"
     ]
    }
   ],
   "source": [
    "dfs = load_by_uic(dataset, model_type)"
   ]
  },
  {
   "cell_type": "code",
   "execution_count": 5,
   "metadata": {},
   "outputs": [],
   "source": [
    "preds = []\n",
    "for i in range(len(dfs)):\n",
    "    preds.append(dfs[i]['1'] > dfs[i]['0'])"
   ]
  },
  {
   "cell_type": "code",
   "execution_count": 6,
   "metadata": {},
   "outputs": [
    {
     "name": "stdout",
     "output_type": "stream",
     "text": [
      "0 0 0\n",
      "0 1 0\n",
      "0 2 0\n",
      "0 3 0\n",
      "0 4 0\n",
      "0 5 0\n",
      "0 6 106\n",
      "1 1 0\n",
      "1 2 0\n",
      "1 3 0\n",
      "1 4 0\n",
      "1 5 0\n",
      "1 6 106\n",
      "2 2 0\n",
      "2 3 0\n",
      "2 4 0\n",
      "2 5 0\n",
      "2 6 106\n",
      "3 3 0\n",
      "3 4 0\n",
      "3 5 0\n",
      "3 6 106\n",
      "4 4 0\n",
      "4 5 0\n",
      "4 6 106\n",
      "5 5 0\n",
      "5 6 106\n",
      "6 6 0\n"
     ]
    }
   ],
   "source": [
    "for i in range(len(dfs)):\n",
    "    for j in range(i, len(dfs)):\n",
    "        changed = preds[i] != preds[j]\n",
    "        print(i, j, len(dfs[i][changed]))"
   ]
  },
  {
   "cell_type": "code",
   "execution_count": 7,
   "metadata": {},
   "outputs": [],
   "source": [
    "prob_diffs = []\n",
    "for i in range(len(dfs)):\n",
    "    diff = (dfs[i]['1'] - dfs[i]['0'])\n",
    "    prob_diffs.append(diff)"
   ]
  },
  {
   "cell_type": "code",
   "execution_count": 8,
   "metadata": {
    "scrolled": false
   },
   "outputs": [
    {
     "name": "stdout",
     "output_type": "stream",
     "text": [
      "0.017717752840712808\n",
      "0.01945962515288202\n",
      "0.0021924225115572127\n",
      "0.0008954050484840104\n",
      "0.0009902343249558743\n",
      "0.00033365570814036793\n",
      "0.01822870190903303\n"
     ]
    }
   ],
   "source": [
    "for diff in prob_diffs:\n",
    "    print(diff.abs().min())"
   ]
  },
  {
   "cell_type": "code",
   "execution_count": 26,
   "metadata": {},
   "outputs": [
    {
     "name": "stdout",
     "output_type": "stream",
     "text": [
      "-0.003182395004315719\n",
      "-0.008199047927028358\n",
      "-0.02089654637008187\n",
      "-0.025846966880931688\n",
      "-0.014106019689951704\n",
      "-0.026330973299750093\n"
     ]
    }
   ],
   "source": [
    "for i in range(1, len(dfs)):\n",
    "    print((dfs[0]['1'] - dfs[i]['1']).min())"
   ]
  },
  {
   "cell_type": "code",
   "execution_count": 9,
   "metadata": {},
   "outputs": [],
   "source": [
    "import pickle as pkl"
   ]
  },
  {
   "cell_type": "code",
   "execution_count": 10,
   "metadata": {},
   "outputs": [],
   "source": [
    "def model_diff(m1, m2):\n",
    "    # return ((m1.coef_ - m2.coef_)**2).sum() + ((m1.intercept_ - m2.intercept_)**2).sum()\n",
    "    m1_vec = np.append(m1.intercept_, m1.coef_)\n",
    "    m2_vec = np.append(m2.intercept_, m2.coef_)\n",
    "    cos_theta = np.dot(m1_vec, m2_vec) / np.sqrt(np.dot(m1_vec, m1_vec) * np.dot(m2_vec, m2_vec))\n",
    "    return np.degrees(np.arccos(cos_theta))"
   ]
  },
  {
   "cell_type": "code",
   "execution_count": 12,
   "metadata": {},
   "outputs": [],
   "source": [
    "def load_model(dataset, model_type, mod_prefix, pic=0, uic=0):\n",
    "    model_path = '../outputs/standard/{:s}/models/{:s}/{:s}_{:.2f}_{:.2f}.pkl'.format(dataset, model_type, mod_prefix, pic, uic)\n",
    "    print(model_path)\n",
    "    return pkl.load(open(model_path, 'rb'))"
   ]
  },
  {
   "cell_type": "code",
   "execution_count": 13,
   "metadata": {},
   "outputs": [
    {
     "name": "stdout",
     "output_type": "stream",
     "text": [
      "../outputs/standard/compas/models/lr/pmod_0.00_0.00.pkl\n"
     ]
    }
   ],
   "source": [
    "base_pmod = load_model(dataset, model_type, 'pmod')"
   ]
  },
  {
   "cell_type": "code",
   "execution_count": 14,
   "metadata": {},
   "outputs": [
    {
     "name": "stdout",
     "output_type": "stream",
     "text": [
      "../outputs/standard/compas/models/lr/umod_0.00_0.00.pkl\n"
     ]
    }
   ],
   "source": [
    "base_umod = load_model(dataset, model_type, 'umod')"
   ]
  },
  {
   "cell_type": "code",
   "execution_count": 15,
   "metadata": {},
   "outputs": [
    {
     "name": "stdout",
     "output_type": "stream",
     "text": [
      "../outputs/standard/compas/models/lr/mod_0.00_0.00.pkl\n"
     ]
    }
   ],
   "source": [
    "base_mod = load_model(dataset, model_type, 'mod')"
   ]
  },
  {
   "cell_type": "code",
   "execution_count": 16,
   "metadata": {},
   "outputs": [
    {
     "data": {
      "text/plain": [
       "10.871962618170265"
      ]
     },
     "execution_count": 16,
     "metadata": {},
     "output_type": "execute_result"
    }
   ],
   "source": [
    "model_diff(base_pmod, base_mod)"
   ]
  },
  {
   "cell_type": "code",
   "execution_count": 22,
   "metadata": {},
   "outputs": [
    {
     "name": "stdout",
     "output_type": "stream",
     "text": [
      "../outputs/standard/compas/models/lr/mod_0.00_0.00.pkl\n",
      "10.871962618170265\n",
      "../outputs/standard/compas/models/lr/mod_0.10_0.00.pkl\n",
      "25.68441775842562\n",
      "../outputs/standard/compas/models/lr/mod_0.20_0.00.pkl\n",
      "25.557877920132114\n",
      "../outputs/standard/compas/models/lr/mod_0.30_0.00.pkl\n",
      "20.132774948787656\n",
      "../outputs/standard/compas/models/lr/mod_0.40_0.00.pkl\n",
      "25.89903094827029\n",
      "../outputs/standard/compas/models/lr/mod_0.50_0.00.pkl\n",
      "23.302503323862506\n",
      "../outputs/standard/compas/models/lr/mod_0.60_0.00.pkl\n",
      "18.811215281304925\n"
     ]
    }
   ],
   "source": [
    "for i in range(7):\n",
    "    m1 = load_model(dataset, model_type, 'mod', i/10, 0)\n",
    "    print(model_diff(base_pmod, m1))"
   ]
  },
  {
   "cell_type": "code",
   "execution_count": 23,
   "metadata": {},
   "outputs": [
    {
     "name": "stdout",
     "output_type": "stream",
     "text": [
      "../outputs/standard/compas/models/lr/mod_0.00_0.00.pkl\n",
      "6.670655018519331\n",
      "../outputs/standard/compas/models/lr/mod_0.10_0.00.pkl\n",
      "24.21513432102736\n",
      "../outputs/standard/compas/models/lr/mod_0.20_0.00.pkl\n",
      "24.127931109688106\n",
      "../outputs/standard/compas/models/lr/mod_0.30_0.00.pkl\n",
      "19.90634253622285\n",
      "../outputs/standard/compas/models/lr/mod_0.40_0.00.pkl\n",
      "25.43805208278658\n",
      "../outputs/standard/compas/models/lr/mod_0.50_0.00.pkl\n",
      "22.064399670667957\n",
      "../outputs/standard/compas/models/lr/mod_0.60_0.00.pkl\n",
      "18.164124421042604\n"
     ]
    }
   ],
   "source": [
    "for i in range(7):\n",
    "    m1 = load_model(dataset, model_type, 'mod', i/10, 0)\n",
    "    print(model_diff(base_umod, m1))"
   ]
  },
  {
   "cell_type": "code",
   "execution_count": null,
   "metadata": {},
   "outputs": [],
   "source": []
  }
 ],
 "metadata": {
  "kernelspec": {
   "display_name": "Python 3 (ipykernel)",
   "language": "python",
   "name": "python3"
  },
  "language_info": {
   "codemirror_mode": {
    "name": "ipython",
    "version": 3
   },
   "file_extension": ".py",
   "mimetype": "text/x-python",
   "name": "python",
   "nbconvert_exporter": "python",
   "pygments_lexer": "ipython3",
   "version": "3.7.0"
  }
 },
 "nbformat": 4,
 "nbformat_minor": 1
}
