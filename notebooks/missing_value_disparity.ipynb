{
 "cells": [
  {
   "cell_type": "code",
   "execution_count": 1,
   "metadata": {},
   "outputs": [
    {
     "data": {
      "text/plain": [
       "['../',\n",
       " 'D:\\\\Thesis\\\\MachineFairness\\\\ContexualFairness\\\\2022-1Spring\\\\MissingValueDisparity\\\\notebooks',\n",
       " 'c:\\\\python38_64\\\\python38.zip',\n",
       " 'c:\\\\python38_64\\\\DLLs',\n",
       " 'c:\\\\python38_64\\\\lib',\n",
       " 'c:\\\\python38_64',\n",
       " '',\n",
       " 'C:\\\\Users\\\\Rakin\\\\AppData\\\\Roaming\\\\Python\\\\Python38\\\\site-packages',\n",
       " 'c:\\\\python38_64\\\\lib\\\\site-packages',\n",
       " 'c:\\\\python38_64\\\\lib\\\\site-packages\\\\pgmpy-0.1.15-py3.8.egg',\n",
       " 'c:\\\\python38_64\\\\lib\\\\site-packages\\\\win32',\n",
       " 'c:\\\\python38_64\\\\lib\\\\site-packages\\\\win32\\\\lib',\n",
       " 'c:\\\\python38_64\\\\lib\\\\site-packages\\\\Pythonwin',\n",
       " 'c:\\\\python38_64\\\\lib\\\\site-packages\\\\IPython\\\\extensions',\n",
       " 'C:\\\\Users\\\\Rakin\\\\.ipython']"
      ]
     },
     "execution_count": 1,
     "metadata": {},
     "output_type": "execute_result"
    }
   ],
   "source": [
    "import sys\n",
    "sys.path.insert(0,'../')\n",
    "sys.path"
   ]
  },
  {
   "cell_type": "code",
   "execution_count": 2,
   "metadata": {
    "pycharm": {
     "is_executing": true
    }
   },
   "outputs": [],
   "source": [
    "import numpy as np\n",
    "from utils import *\n",
    "from datasets.fair_dataset import FairDataset"
   ]
  },
  {
   "cell_type": "code",
   "execution_count": 3,
   "metadata": {},
   "outputs": [],
   "source": [
    "protected = [\"sex\"]\n",
    "privileged_classes = [['Male']]\n",
    "class_shift = 10\n",
    "kwargs = {\n",
    "    'protected_attribute_names': ['sex'],\n",
    "    'privileged_group': 'Male',\n",
    "    'favorable_class': 1,\n",
    "    'classes': [0, 1],\n",
    "    'sensitive_groups': ['Female', 'Male'],\n",
    "    'group_shift': 2,\n",
    "    'alpha': 0.25, 'beta': 1, 'keep_im_prot': True,\n",
    "    'dist': {'mus': {1: np.array([10, 15]), \n",
    "                     0: np.array([10 - class_shift, 15 - class_shift])}, 'sigmas': [3, 3]}\n",
    "}"
   ]
  },
  {
   "cell_type": "code",
   "execution_count": 4,
   "metadata": {},
   "outputs": [],
   "source": [
    "estimator = get_estimator('nb', False)\n",
    "keep_prot = False"
   ]
  },
  {
   "cell_type": "code",
   "execution_count": 5,
   "metadata": {},
   "outputs": [],
   "source": [
    "def get_performance_summary(train_fd, test_fd, estimator, prediction_func):\n",
    "    pmod, pmod_results = get_groupwise_performance(train_fd, test_fd,\n",
    "                                               estimator,\n",
    "                                               privileged=True,\n",
    "                                               pos_rate=False)\n",
    "    umod, umod_results = get_groupwise_performance(train_fd, test_fd,\n",
    "                                               estimator,\n",
    "                                               privileged=False,\n",
    "                                               pos_rate=False)\n",
    "    mod, mod_results = get_groupwise_performance(train_fd, test_fd,\n",
    "                                             estimator,\n",
    "                                             privileged=None,\n",
    "                                             pos_rate=False)\n",
    "\n",
    "    p_perf = get_model_performances(pmod, test_fd,\n",
    "                                prediction_func, keep_prot=keep_prot)\n",
    "    u_perf = get_model_performances(umod, test_fd,\n",
    "                                prediction_func, keep_prot=keep_prot)\n",
    "    m_perf = get_model_performances(mod, test_fd,\n",
    "                                prediction_func, keep_prot=keep_prot)\n",
    "    print_table_row(is_header=False, var_value='mean', p_perf=p_perf,\n",
    "                        u_perf=u_perf, m_perf=m_perf, variable='method')\n",
    "    return pmod, umod, mod, p_perf, u_perf, m_perf"
   ]
  },
  {
   "cell_type": "code",
   "execution_count": 31,
   "metadata": {
    "scrolled": true
   },
   "outputs": [
    {
     "name": "stdout",
     "output_type": "stream",
     "text": [
      "{'random_seed': 47, 'keep_im_prot': True, 'method': 'iterative_imputer.mice'}\n",
      "[(array([-2,  3]), [3, 3], 0, 0), (array([0, 5]), [3, 3], 1, 0), (array([ 8, 13]), [3, 3], 0, 1), (array([10, 15]), [3, 3], 1, 1)]\n",
      "[(array([-2,  3]), [3, 3], 0, 0), (array([0, 5]), [3, 3], 1, 0), (array([ 8, 13]), [3, 3], 0, 1), (array([10, 15]), [3, 3], 1, 1)]\n",
      "          0         1  sex  label\n",
      "0 -4.544028  6.917719  0.0    0.0\n",
      "1  0.772624  4.921235  0.0    0.0\n",
      "2 -5.164211  8.393282  0.0    0.0\n",
      "3 -5.038360  5.470870  0.0    0.0\n",
      "4 -2.883951  1.222588  0.0    0.0\n",
      "               0          1  sex  label\n",
      "19995   5.250366  15.866859  1.0    1.0\n",
      "19996  12.098511  16.791829  1.0    1.0\n",
      "19997  12.802980  19.425987  1.0    1.0\n",
      "19998   7.110894  17.730945  1.0    1.0\n",
      "19999  13.591477  17.545663  1.0    1.0\n",
      "          0         1  sex  label\n",
      "0 -4.544028  2.113933  0.0    0.0\n",
      "1  0.772624  5.675843  0.0    0.0\n",
      "2 -5.164211  8.393282  0.0    0.0\n",
      "3 -5.038360  1.782754  0.0    0.0\n",
      "4 -2.883951  1.222588  0.0    0.0\n",
      "               0          1  sex  label\n",
      "19995   5.250366  15.866859  1.0    1.0\n",
      "19996  12.098511  16.791829  1.0    1.0\n",
      "19997  12.802980  19.425987  1.0    1.0\n",
      "19998   7.110894  10.546759  1.0    1.0\n",
      "19999  13.591477  17.545663  1.0    1.0\n",
      "{'random_seed': 41, 'imputer': IterativeImputer(estimator=LinearRegression(), imputation_order='descending',\n",
      "                 max_iter=5, random_state=0), 'keep_im_prot': True, 'method': 'iterative_imputer.mice'}\n",
      "[(array([-2,  3]), [3, 3], 0, 0), (array([0, 5]), [3, 3], 1, 0), (array([ 8, 13]), [3, 3], 0, 1), (array([10, 15]), [3, 3], 1, 1)]\n",
      "[(array([-2,  3]), [3, 3], 0, 0), (array([0, 5]), [3, 3], 1, 0), (array([ 8, 13]), [3, 3], 0, 1), (array([10, 15]), [3, 3], 1, 1)]\n"
     ]
    },
    {
     "name": "stderr",
     "output_type": "stream",
     "text": [
      "Changing the sparsity structure of a csr_matrix is expensive. lil_matrix is more efficient.\n",
      "Changing the sparsity structure of a csr_matrix is expensive. lil_matrix is more efficient.\n",
      "Changing the sparsity structure of a csr_matrix is expensive. lil_matrix is more efficient.\n"
     ]
    },
    {
     "name": "stdout",
     "output_type": "stream",
     "text": [
      "          0         1  sex  label\n",
      "0 -2.812137  3.314544  0.0    0.0\n",
      "1 -1.248417  0.224400  0.0    0.0\n",
      "2 -0.298569 -0.120541  0.0    0.0\n",
      "3 -2.461028  5.369555  0.0    0.0\n",
      "4 -5.678648  0.155979  0.0    0.0\n",
      "               0          1  sex  label\n",
      "19995   9.958686  13.915196  1.0    1.0\n",
      "19996   7.928059  16.617448  1.0    1.0\n",
      "19997  12.312745  21.622555  1.0    1.0\n",
      "19998   8.172668  15.303179  1.0    1.0\n",
      "19999   9.125001  12.919607  1.0    1.0\n",
      "          0         1  sex  label\n",
      "0 -2.812137  3.274220  0.0    0.0\n",
      "1 -1.248417  0.224400  0.0    0.0\n",
      "2 -0.298569 -0.120541  0.0    0.0\n",
      "3 -2.461028  3.509447  0.0    0.0\n",
      "4 -5.678648  1.353792  0.0    0.0\n",
      "               0          1  sex  label\n",
      "19995   9.958686  12.454647  1.0    1.0\n",
      "19996   7.928059  16.617448  1.0    1.0\n",
      "19997  12.312745  21.622555  1.0    1.0\n",
      "19998   8.172668  15.303179  1.0    1.0\n",
      "19999   9.125001  12.919607  1.0    1.0\n"
     ]
    },
    {
     "name": "stderr",
     "output_type": "stream",
     "text": [
      "Changing the sparsity structure of a csr_matrix is expensive. lil_matrix is more efficient.\n"
     ]
    }
   ],
   "source": [
    "train_fd, test_fd = get_datasets(\n",
    "    type='ccd', n_samples=10000, n_features=2,\n",
    "    train_random_state=47, test_random_state=41,\n",
    "    **kwargs, method='iterative_imputer.mice')"
   ]
  },
  {
   "cell_type": "code",
   "execution_count": 7,
   "metadata": {},
   "outputs": [],
   "source": [
    "complete_df = train_fd.complete_df.astype(float)"
   ]
  },
  {
   "cell_type": "code",
   "execution_count": 8,
   "metadata": {},
   "outputs": [
    {
     "data": {
      "text/plain": [
       "[(array([-2,  3]), [3, 3], 0, 0),\n",
       " (array([0, 5]), [3, 3], 1, 0),\n",
       " (array([ 8, 13]), [3, 3], 0, 1),\n",
       " (array([10, 15]), [3, 3], 1, 1)]"
      ]
     },
     "execution_count": 8,
     "metadata": {},
     "output_type": "execute_result"
    }
   ],
   "source": [
    "train_fd.group_configs"
   ]
  },
  {
   "cell_type": "code",
   "execution_count": 9,
   "metadata": {},
   "outputs": [
    {
     "data": {
      "text/plain": [
       "array([[-0.96871471,  3.97595821,  0.5       ],\n",
       "       [ 9.00431815, 14.05140606,  0.5       ]])"
      ]
     },
     "execution_count": 9,
     "metadata": {},
     "output_type": "execute_result"
    }
   ],
   "source": [
    "from sklearn.naive_bayes import GaussianNB\n",
    "model = GaussianNB()\n",
    "model.fit(complete_df[complete_df.columns[:-1]], complete_df[complete_df.columns[-1]])\n",
    "model.theta_"
   ]
  },
  {
   "cell_type": "code",
   "execution_count": 10,
   "metadata": {},
   "outputs": [
    {
     "data": {
      "text/plain": [
       "array([[10.13943171,  9.96107676,  0.25000003],\n",
       "       [10.06332871, 10.11039807,  0.25000003]])"
      ]
     },
     "execution_count": 10,
     "metadata": {},
     "output_type": "execute_result"
    }
   ],
   "source": [
    "model.sigma_"
   ]
  },
  {
   "cell_type": "code",
   "execution_count": 11,
   "metadata": {},
   "outputs": [
    {
     "data": {
      "text/html": [
       "<div>\n",
       "<style scoped>\n",
       "    .dataframe tbody tr th:only-of-type {\n",
       "        vertical-align: middle;\n",
       "    }\n",
       "\n",
       "    .dataframe tbody tr th {\n",
       "        vertical-align: top;\n",
       "    }\n",
       "\n",
       "    .dataframe thead th {\n",
       "        text-align: right;\n",
       "    }\n",
       "</style>\n",
       "<table border=\"1\" class=\"dataframe\">\n",
       "  <thead>\n",
       "    <tr style=\"text-align: right;\">\n",
       "      <th></th>\n",
       "      <th>0</th>\n",
       "      <th>1</th>\n",
       "      <th>sex</th>\n",
       "      <th>label</th>\n",
       "    </tr>\n",
       "  </thead>\n",
       "  <tbody>\n",
       "    <tr>\n",
       "      <th>0</th>\n",
       "      <td>-4.544028</td>\n",
       "      <td>6.917719</td>\n",
       "      <td>0.0</td>\n",
       "      <td>0.0</td>\n",
       "    </tr>\n",
       "    <tr>\n",
       "      <th>1</th>\n",
       "      <td>0.772624</td>\n",
       "      <td>4.921235</td>\n",
       "      <td>0.0</td>\n",
       "      <td>0.0</td>\n",
       "    </tr>\n",
       "    <tr>\n",
       "      <th>2</th>\n",
       "      <td>-5.164211</td>\n",
       "      <td>8.393282</td>\n",
       "      <td>0.0</td>\n",
       "      <td>0.0</td>\n",
       "    </tr>\n",
       "    <tr>\n",
       "      <th>3</th>\n",
       "      <td>-5.038360</td>\n",
       "      <td>5.470870</td>\n",
       "      <td>0.0</td>\n",
       "      <td>0.0</td>\n",
       "    </tr>\n",
       "    <tr>\n",
       "      <th>4</th>\n",
       "      <td>-2.883951</td>\n",
       "      <td>1.222588</td>\n",
       "      <td>0.0</td>\n",
       "      <td>0.0</td>\n",
       "    </tr>\n",
       "  </tbody>\n",
       "</table>\n",
       "</div>"
      ],
      "text/plain": [
       "          0         1  sex  label\n",
       "0 -4.544028  6.917719  0.0    0.0\n",
       "1  0.772624  4.921235  0.0    0.0\n",
       "2 -5.164211  8.393282  0.0    0.0\n",
       "3 -5.038360  5.470870  0.0    0.0\n",
       "4 -2.883951  1.222588  0.0    0.0"
      ]
     },
     "execution_count": 11,
     "metadata": {},
     "output_type": "execute_result"
    }
   ],
   "source": [
    "train_fd.complete_df.head()"
   ]
  },
  {
   "cell_type": "code",
   "execution_count": 12,
   "metadata": {},
   "outputs": [
    {
     "data": {
      "text/html": [
       "<div>\n",
       "<style scoped>\n",
       "    .dataframe tbody tr th:only-of-type {\n",
       "        vertical-align: middle;\n",
       "    }\n",
       "\n",
       "    .dataframe tbody tr th {\n",
       "        vertical-align: top;\n",
       "    }\n",
       "\n",
       "    .dataframe thead th {\n",
       "        text-align: right;\n",
       "    }\n",
       "</style>\n",
       "<table border=\"1\" class=\"dataframe\">\n",
       "  <thead>\n",
       "    <tr style=\"text-align: right;\">\n",
       "      <th></th>\n",
       "      <th>0</th>\n",
       "      <th>1</th>\n",
       "      <th>sex</th>\n",
       "      <th>label</th>\n",
       "    </tr>\n",
       "  </thead>\n",
       "  <tbody>\n",
       "    <tr>\n",
       "      <th>19995</th>\n",
       "      <td>5.250366</td>\n",
       "      <td>15.866859</td>\n",
       "      <td>1.0</td>\n",
       "      <td>1.0</td>\n",
       "    </tr>\n",
       "    <tr>\n",
       "      <th>19996</th>\n",
       "      <td>12.098511</td>\n",
       "      <td>16.791829</td>\n",
       "      <td>1.0</td>\n",
       "      <td>1.0</td>\n",
       "    </tr>\n",
       "    <tr>\n",
       "      <th>19997</th>\n",
       "      <td>12.802980</td>\n",
       "      <td>19.425987</td>\n",
       "      <td>1.0</td>\n",
       "      <td>1.0</td>\n",
       "    </tr>\n",
       "    <tr>\n",
       "      <th>19998</th>\n",
       "      <td>7.110894</td>\n",
       "      <td>17.730945</td>\n",
       "      <td>1.0</td>\n",
       "      <td>1.0</td>\n",
       "    </tr>\n",
       "    <tr>\n",
       "      <th>19999</th>\n",
       "      <td>13.591477</td>\n",
       "      <td>17.545663</td>\n",
       "      <td>1.0</td>\n",
       "      <td>1.0</td>\n",
       "    </tr>\n",
       "  </tbody>\n",
       "</table>\n",
       "</div>"
      ],
      "text/plain": [
       "               0          1  sex  label\n",
       "19995   5.250366  15.866859  1.0    1.0\n",
       "19996  12.098511  16.791829  1.0    1.0\n",
       "19997  12.802980  19.425987  1.0    1.0\n",
       "19998   7.110894  17.730945  1.0    1.0\n",
       "19999  13.591477  17.545663  1.0    1.0"
      ]
     },
     "execution_count": 12,
     "metadata": {},
     "output_type": "execute_result"
    }
   ],
   "source": [
    "train_fd.complete_df.tail()"
   ]
  },
  {
   "cell_type": "code",
   "execution_count": 13,
   "metadata": {},
   "outputs": [
    {
     "data": {
      "text/html": [
       "<div>\n",
       "<style scoped>\n",
       "    .dataframe tbody tr th:only-of-type {\n",
       "        vertical-align: middle;\n",
       "    }\n",
       "\n",
       "    .dataframe tbody tr th {\n",
       "        vertical-align: top;\n",
       "    }\n",
       "\n",
       "    .dataframe thead th {\n",
       "        text-align: right;\n",
       "    }\n",
       "</style>\n",
       "<table border=\"1\" class=\"dataframe\">\n",
       "  <thead>\n",
       "    <tr style=\"text-align: right;\">\n",
       "      <th></th>\n",
       "      <th>0</th>\n",
       "      <th>1</th>\n",
       "      <th>sex</th>\n",
       "      <th>label</th>\n",
       "    </tr>\n",
       "  </thead>\n",
       "  <tbody>\n",
       "    <tr>\n",
       "      <th>0</th>\n",
       "      <td>-2.812137</td>\n",
       "      <td>3.314544</td>\n",
       "      <td>0.0</td>\n",
       "      <td>0.0</td>\n",
       "    </tr>\n",
       "    <tr>\n",
       "      <th>1</th>\n",
       "      <td>-1.248417</td>\n",
       "      <td>0.224400</td>\n",
       "      <td>0.0</td>\n",
       "      <td>0.0</td>\n",
       "    </tr>\n",
       "    <tr>\n",
       "      <th>2</th>\n",
       "      <td>-0.298569</td>\n",
       "      <td>-0.120541</td>\n",
       "      <td>0.0</td>\n",
       "      <td>0.0</td>\n",
       "    </tr>\n",
       "    <tr>\n",
       "      <th>3</th>\n",
       "      <td>-2.461028</td>\n",
       "      <td>5.369555</td>\n",
       "      <td>0.0</td>\n",
       "      <td>0.0</td>\n",
       "    </tr>\n",
       "    <tr>\n",
       "      <th>4</th>\n",
       "      <td>-5.678648</td>\n",
       "      <td>0.155979</td>\n",
       "      <td>0.0</td>\n",
       "      <td>0.0</td>\n",
       "    </tr>\n",
       "  </tbody>\n",
       "</table>\n",
       "</div>"
      ],
      "text/plain": [
       "          0         1  sex  label\n",
       "0 -2.812137  3.314544  0.0    0.0\n",
       "1 -1.248417  0.224400  0.0    0.0\n",
       "2 -0.298569 -0.120541  0.0    0.0\n",
       "3 -2.461028  5.369555  0.0    0.0\n",
       "4 -5.678648  0.155979  0.0    0.0"
      ]
     },
     "execution_count": 13,
     "metadata": {},
     "output_type": "execute_result"
    }
   ],
   "source": [
    "test_fd.complete_df.head()"
   ]
  },
  {
   "cell_type": "code",
   "execution_count": 14,
   "metadata": {},
   "outputs": [
    {
     "data": {
      "text/html": [
       "<div>\n",
       "<style scoped>\n",
       "    .dataframe tbody tr th:only-of-type {\n",
       "        vertical-align: middle;\n",
       "    }\n",
       "\n",
       "    .dataframe tbody tr th {\n",
       "        vertical-align: top;\n",
       "    }\n",
       "\n",
       "    .dataframe thead th {\n",
       "        text-align: right;\n",
       "    }\n",
       "</style>\n",
       "<table border=\"1\" class=\"dataframe\">\n",
       "  <thead>\n",
       "    <tr style=\"text-align: right;\">\n",
       "      <th></th>\n",
       "      <th>0</th>\n",
       "      <th>1</th>\n",
       "      <th>sex</th>\n",
       "      <th>label</th>\n",
       "    </tr>\n",
       "  </thead>\n",
       "  <tbody>\n",
       "    <tr>\n",
       "      <th>19995</th>\n",
       "      <td>9.958686</td>\n",
       "      <td>13.915196</td>\n",
       "      <td>1.0</td>\n",
       "      <td>1.0</td>\n",
       "    </tr>\n",
       "    <tr>\n",
       "      <th>19996</th>\n",
       "      <td>7.928059</td>\n",
       "      <td>16.617448</td>\n",
       "      <td>1.0</td>\n",
       "      <td>1.0</td>\n",
       "    </tr>\n",
       "    <tr>\n",
       "      <th>19997</th>\n",
       "      <td>12.312745</td>\n",
       "      <td>21.622555</td>\n",
       "      <td>1.0</td>\n",
       "      <td>1.0</td>\n",
       "    </tr>\n",
       "    <tr>\n",
       "      <th>19998</th>\n",
       "      <td>8.172668</td>\n",
       "      <td>15.303179</td>\n",
       "      <td>1.0</td>\n",
       "      <td>1.0</td>\n",
       "    </tr>\n",
       "    <tr>\n",
       "      <th>19999</th>\n",
       "      <td>9.125001</td>\n",
       "      <td>12.919607</td>\n",
       "      <td>1.0</td>\n",
       "      <td>1.0</td>\n",
       "    </tr>\n",
       "  </tbody>\n",
       "</table>\n",
       "</div>"
      ],
      "text/plain": [
       "               0          1  sex  label\n",
       "19995   9.958686  13.915196  1.0    1.0\n",
       "19996   7.928059  16.617448  1.0    1.0\n",
       "19997  12.312745  21.622555  1.0    1.0\n",
       "19998   8.172668  15.303179  1.0    1.0\n",
       "19999   9.125001  12.919607  1.0    1.0"
      ]
     },
     "execution_count": 14,
     "metadata": {},
     "output_type": "execute_result"
    }
   ],
   "source": [
    "test_fd.complete_df.tail()"
   ]
  },
  {
   "cell_type": "code",
   "execution_count": 15,
   "metadata": {},
   "outputs": [],
   "source": [
    "baseline_fd = FairDataset(df=complete_df, protected_attribute_names=['sex'])"
   ]
  },
  {
   "cell_type": "code",
   "execution_count": 16,
   "metadata": {},
   "outputs": [
    {
     "name": "stdout",
     "output_type": "stream",
     "text": [
      "s 0 label 0\n",
      "                 0            1     sex   label\n",
      "count  7500.000000  7500.000000  7500.0  7500.0\n",
      "mean     -1.971826     2.964759     0.0     0.0\n",
      "std       3.009595     2.975627     0.0     0.0\n",
      "min     -14.679162    -8.693075     0.0     0.0\n",
      "25%      -3.999826     0.925972     0.0     0.0\n",
      "50%      -1.976793     2.953405     0.0     0.0\n",
      "75%       0.059479     4.936042     0.0     0.0\n",
      "max      10.733290    13.507203     0.0     0.0\n",
      "s 0 label 1\n",
      "                 0            1     sex   label\n",
      "count  2500.000000  2500.000000  2500.0  2500.0\n",
      "mean      7.961709    13.079534     0.0     1.0\n",
      "std       3.006858     3.027690     0.0     0.0\n",
      "min      -2.027707     2.781380     0.0     1.0\n",
      "25%       5.977845    11.013145     0.0     1.0\n",
      "50%       7.915225    13.133695     0.0     1.0\n",
      "75%       9.966237    15.077240     0.0     1.0\n",
      "max      17.600777    24.220583     0.0     1.0\n",
      "s 1 label 0\n",
      "                 0            1     sex   label\n",
      "count  7500.000000  7500.000000  7500.0  7500.0\n",
      "mean      0.034396     4.987157     1.0     0.0\n",
      "std       3.034991     3.004186     0.0     0.0\n",
      "min     -11.587590    -7.286750     1.0     0.0\n",
      "25%      -2.027751     2.946220     1.0     0.0\n",
      "50%       0.035022     4.914125     1.0     0.0\n",
      "75%       2.076534     7.018474     1.0     0.0\n",
      "max      10.644610    16.338895     1.0     0.0\n",
      "s 1 label 1\n",
      "                 0            1     sex   label\n",
      "count  2500.000000  2500.000000  2500.0  2500.0\n",
      "mean     10.046927    15.023278     1.0     1.0\n",
      "std       2.986399     3.028556     0.0     0.0\n",
      "min      -0.330217     4.909095     1.0     1.0\n",
      "25%       8.037656    13.016608     1.0     1.0\n",
      "50%      10.075398    14.971758     1.0     1.0\n",
      "75%      12.085110    17.028546     1.0     1.0\n",
      "max      19.436415    27.165284     1.0     1.0\n"
     ]
    }
   ],
   "source": [
    "for s in [0, 1]:\n",
    "    for l in [0, 1]:\n",
    "        print('s', s, 'label', l)\n",
    "        print(complete_df[(complete_df['sex'] == s) & (complete_df['label'] == l)].describe())"
   ]
  },
  {
   "cell_type": "code",
   "execution_count": 17,
   "metadata": {},
   "outputs": [
    {
     "name": "stdout",
     "output_type": "stream",
     "text": [
      "s 0 label 0\n",
      "                 0            1     sex   label\n",
      "count  7500.000000  4507.000000  7500.0  7500.0\n",
      "mean     -1.971826     2.973859     0.0     0.0\n",
      "std       3.009595     2.974248     0.0     0.0\n",
      "min     -14.679162    -6.482708     0.0     0.0\n",
      "25%      -3.999826     0.913326     0.0     0.0\n",
      "50%      -1.976793     2.945779     0.0     0.0\n",
      "75%       0.059479     4.957119     0.0     0.0\n",
      "max      10.733290    13.207772     0.0     0.0\n",
      "s 0 label 1\n",
      "                 0            1     sex   label\n",
      "count  2500.000000  1493.000000  2500.0  2500.0\n",
      "mean      7.961709    13.056682     0.0     1.0\n",
      "std       3.006858     3.097647     0.0     0.0\n",
      "min      -2.027707     2.908823     0.0     1.0\n",
      "25%       5.977845    10.942813     0.0     1.0\n",
      "50%       7.915225    13.134066     0.0     1.0\n",
      "75%       9.966237    15.183945     0.0     1.0\n",
      "max      17.600777    24.220583     0.0     1.0\n",
      "s 1 label 0\n",
      "                 0            1     sex   label\n",
      "count  7500.000000  6762.000000  7500.0  7500.0\n",
      "mean      0.034396     4.979274     1.0     0.0\n",
      "std       3.034991     3.009738     0.0     0.0\n",
      "min     -11.587590    -7.286750     1.0     0.0\n",
      "25%      -2.027751     2.932746     1.0     0.0\n",
      "50%       0.035022     4.905892     1.0     0.0\n",
      "75%       2.076534     7.006933     1.0     0.0\n",
      "max      10.644610    16.338895     1.0     0.0\n",
      "s 1 label 1\n",
      "                 0            1     sex   label\n",
      "count  2500.000000  2238.000000  2500.0  2500.0\n",
      "mean     10.046927    14.990714     1.0     1.0\n",
      "std       2.986399     3.020011     0.0     0.0\n",
      "min      -0.330217     4.909095     1.0     1.0\n",
      "25%       8.037656    12.986811     1.0     1.0\n",
      "50%      10.075398    14.954963     1.0     1.0\n",
      "75%      12.085110    17.005920     1.0     1.0\n",
      "max      19.436415    24.693759     1.0     1.0\n"
     ]
    }
   ],
   "source": [
    "incomplete_df = train_fd.get_incomplete_df()\n",
    "for s in [0, 1]:\n",
    "    for l in [0, 1]:\n",
    "        print('s', s, 'label', l)\n",
    "        print(incomplete_df[(incomplete_df['sex'] == s) & (incomplete_df['label'] == l)].describe())"
   ]
  },
  {
   "cell_type": "code",
   "execution_count": 18,
   "metadata": {},
   "outputs": [
    {
     "data": {
      "text/html": [
       "<div>\n",
       "<style scoped>\n",
       "    .dataframe tbody tr th:only-of-type {\n",
       "        vertical-align: middle;\n",
       "    }\n",
       "\n",
       "    .dataframe tbody tr th {\n",
       "        vertical-align: top;\n",
       "    }\n",
       "\n",
       "    .dataframe thead th {\n",
       "        text-align: right;\n",
       "    }\n",
       "</style>\n",
       "<table border=\"1\" class=\"dataframe\">\n",
       "  <thead>\n",
       "    <tr style=\"text-align: right;\">\n",
       "      <th></th>\n",
       "      <th>0</th>\n",
       "      <th>1</th>\n",
       "      <th>sex</th>\n",
       "      <th>label</th>\n",
       "    </tr>\n",
       "  </thead>\n",
       "  <tbody>\n",
       "    <tr>\n",
       "      <th>0</th>\n",
       "      <td>-4.544028</td>\n",
       "      <td>NaN</td>\n",
       "      <td>0.0</td>\n",
       "      <td>0.0</td>\n",
       "    </tr>\n",
       "    <tr>\n",
       "      <th>1</th>\n",
       "      <td>0.772624</td>\n",
       "      <td>NaN</td>\n",
       "      <td>0.0</td>\n",
       "      <td>0.0</td>\n",
       "    </tr>\n",
       "    <tr>\n",
       "      <th>2</th>\n",
       "      <td>-5.164211</td>\n",
       "      <td>8.393282</td>\n",
       "      <td>0.0</td>\n",
       "      <td>0.0</td>\n",
       "    </tr>\n",
       "    <tr>\n",
       "      <th>3</th>\n",
       "      <td>-5.038360</td>\n",
       "      <td>NaN</td>\n",
       "      <td>0.0</td>\n",
       "      <td>0.0</td>\n",
       "    </tr>\n",
       "    <tr>\n",
       "      <th>4</th>\n",
       "      <td>-2.883951</td>\n",
       "      <td>1.222588</td>\n",
       "      <td>0.0</td>\n",
       "      <td>0.0</td>\n",
       "    </tr>\n",
       "    <tr>\n",
       "      <th>...</th>\n",
       "      <td>...</td>\n",
       "      <td>...</td>\n",
       "      <td>...</td>\n",
       "      <td>...</td>\n",
       "    </tr>\n",
       "    <tr>\n",
       "      <th>19995</th>\n",
       "      <td>5.250366</td>\n",
       "      <td>15.866859</td>\n",
       "      <td>1.0</td>\n",
       "      <td>1.0</td>\n",
       "    </tr>\n",
       "    <tr>\n",
       "      <th>19996</th>\n",
       "      <td>12.098511</td>\n",
       "      <td>16.791829</td>\n",
       "      <td>1.0</td>\n",
       "      <td>1.0</td>\n",
       "    </tr>\n",
       "    <tr>\n",
       "      <th>19997</th>\n",
       "      <td>12.802980</td>\n",
       "      <td>19.425987</td>\n",
       "      <td>1.0</td>\n",
       "      <td>1.0</td>\n",
       "    </tr>\n",
       "    <tr>\n",
       "      <th>19998</th>\n",
       "      <td>7.110894</td>\n",
       "      <td>NaN</td>\n",
       "      <td>1.0</td>\n",
       "      <td>1.0</td>\n",
       "    </tr>\n",
       "    <tr>\n",
       "      <th>19999</th>\n",
       "      <td>13.591477</td>\n",
       "      <td>17.545663</td>\n",
       "      <td>1.0</td>\n",
       "      <td>1.0</td>\n",
       "    </tr>\n",
       "  </tbody>\n",
       "</table>\n",
       "<p>20000 rows × 4 columns</p>\n",
       "</div>"
      ],
      "text/plain": [
       "               0          1  sex  label\n",
       "0      -4.544028        NaN  0.0    0.0\n",
       "1       0.772624        NaN  0.0    0.0\n",
       "2      -5.164211   8.393282  0.0    0.0\n",
       "3      -5.038360        NaN  0.0    0.0\n",
       "4      -2.883951   1.222588  0.0    0.0\n",
       "...          ...        ...  ...    ...\n",
       "19995   5.250366  15.866859  1.0    1.0\n",
       "19996  12.098511  16.791829  1.0    1.0\n",
       "19997  12.802980  19.425987  1.0    1.0\n",
       "19998   7.110894        NaN  1.0    1.0\n",
       "19999  13.591477  17.545663  1.0    1.0\n",
       "\n",
       "[20000 rows x 4 columns]"
      ]
     },
     "execution_count": 18,
     "metadata": {},
     "output_type": "execute_result"
    }
   ],
   "source": [
    "train_fd.get_incomplete_df()"
   ]
  },
  {
   "cell_type": "code",
   "execution_count": 19,
   "metadata": {},
   "outputs": [
    {
     "data": {
      "text/html": [
       "<div>\n",
       "<style scoped>\n",
       "    .dataframe tbody tr th:only-of-type {\n",
       "        vertical-align: middle;\n",
       "    }\n",
       "\n",
       "    .dataframe tbody tr th {\n",
       "        vertical-align: top;\n",
       "    }\n",
       "\n",
       "    .dataframe thead th {\n",
       "        text-align: right;\n",
       "    }\n",
       "</style>\n",
       "<table border=\"1\" class=\"dataframe\">\n",
       "  <thead>\n",
       "    <tr style=\"text-align: right;\">\n",
       "      <th></th>\n",
       "      <th>0</th>\n",
       "      <th>1</th>\n",
       "      <th>sex</th>\n",
       "      <th>label</th>\n",
       "    </tr>\n",
       "  </thead>\n",
       "  <tbody>\n",
       "    <tr>\n",
       "      <th>0</th>\n",
       "      <td>-4.544028</td>\n",
       "      <td>2.113933</td>\n",
       "      <td>0.0</td>\n",
       "      <td>0.0</td>\n",
       "    </tr>\n",
       "    <tr>\n",
       "      <th>1</th>\n",
       "      <td>0.772624</td>\n",
       "      <td>5.675843</td>\n",
       "      <td>0.0</td>\n",
       "      <td>0.0</td>\n",
       "    </tr>\n",
       "    <tr>\n",
       "      <th>2</th>\n",
       "      <td>-5.164211</td>\n",
       "      <td>8.393282</td>\n",
       "      <td>0.0</td>\n",
       "      <td>0.0</td>\n",
       "    </tr>\n",
       "    <tr>\n",
       "      <th>3</th>\n",
       "      <td>-5.038360</td>\n",
       "      <td>1.782754</td>\n",
       "      <td>0.0</td>\n",
       "      <td>0.0</td>\n",
       "    </tr>\n",
       "    <tr>\n",
       "      <th>4</th>\n",
       "      <td>-2.883951</td>\n",
       "      <td>1.222588</td>\n",
       "      <td>0.0</td>\n",
       "      <td>0.0</td>\n",
       "    </tr>\n",
       "    <tr>\n",
       "      <th>...</th>\n",
       "      <td>...</td>\n",
       "      <td>...</td>\n",
       "      <td>...</td>\n",
       "      <td>...</td>\n",
       "    </tr>\n",
       "    <tr>\n",
       "      <th>19995</th>\n",
       "      <td>5.250366</td>\n",
       "      <td>15.866859</td>\n",
       "      <td>1.0</td>\n",
       "      <td>1.0</td>\n",
       "    </tr>\n",
       "    <tr>\n",
       "      <th>19996</th>\n",
       "      <td>12.098511</td>\n",
       "      <td>16.791829</td>\n",
       "      <td>1.0</td>\n",
       "      <td>1.0</td>\n",
       "    </tr>\n",
       "    <tr>\n",
       "      <th>19997</th>\n",
       "      <td>12.802980</td>\n",
       "      <td>19.425987</td>\n",
       "      <td>1.0</td>\n",
       "      <td>1.0</td>\n",
       "    </tr>\n",
       "    <tr>\n",
       "      <th>19998</th>\n",
       "      <td>7.110894</td>\n",
       "      <td>10.546759</td>\n",
       "      <td>1.0</td>\n",
       "      <td>1.0</td>\n",
       "    </tr>\n",
       "    <tr>\n",
       "      <th>19999</th>\n",
       "      <td>13.591477</td>\n",
       "      <td>17.545663</td>\n",
       "      <td>1.0</td>\n",
       "      <td>1.0</td>\n",
       "    </tr>\n",
       "  </tbody>\n",
       "</table>\n",
       "<p>20000 rows × 4 columns</p>\n",
       "</div>"
      ],
      "text/plain": [
       "               0          1  sex  label\n",
       "0      -4.544028   2.113933  0.0    0.0\n",
       "1       0.772624   5.675843  0.0    0.0\n",
       "2      -5.164211   8.393282  0.0    0.0\n",
       "3      -5.038360   1.782754  0.0    0.0\n",
       "4      -2.883951   1.222588  0.0    0.0\n",
       "...          ...        ...  ...    ...\n",
       "19995   5.250366  15.866859  1.0    1.0\n",
       "19996  12.098511  16.791829  1.0    1.0\n",
       "19997  12.802980  19.425987  1.0    1.0\n",
       "19998   7.110894  10.546759  1.0    1.0\n",
       "19999  13.591477  17.545663  1.0    1.0\n",
       "\n",
       "[20000 rows x 4 columns]"
      ]
     },
     "execution_count": 19,
     "metadata": {},
     "output_type": "execute_result"
    }
   ],
   "source": [
    "train_fd.imputed_df"
   ]
  },
  {
   "cell_type": "code",
   "execution_count": 20,
   "metadata": {},
   "outputs": [
    {
     "data": {
      "text/plain": [
       "5.158220939005139"
      ]
     },
     "execution_count": 20,
     "metadata": {},
     "output_type": "execute_result"
    }
   ],
   "source": [
    "train_fd.imputer.imputation_sequence_[0].estimator.intercept_"
   ]
  },
  {
   "cell_type": "code",
   "execution_count": 21,
   "metadata": {},
   "outputs": [
    {
     "data": {
      "text/plain": [
       "IterativeImputer(estimator=LinearRegression(), imputation_order='descending',\n",
       "                 max_iter=5, random_state=0)"
      ]
     },
     "execution_count": 21,
     "metadata": {},
     "output_type": "execute_result"
    }
   ],
   "source": [
    "test_fd.imputer"
   ]
  },
  {
   "cell_type": "code",
   "execution_count": 22,
   "metadata": {},
   "outputs": [
    {
     "data": {
      "text/plain": [
       "15000"
      ]
     },
     "execution_count": 22,
     "metadata": {},
     "output_type": "execute_result"
    }
   ],
   "source": [
    "train_fd.get_incomplete_df()['1'].count()"
   ]
  },
  {
   "cell_type": "code",
   "execution_count": 32,
   "metadata": {},
   "outputs": [
    {
     "name": "stdout",
     "output_type": "stream",
     "text": [
      "Method\t & \tAC_p\t & \tAC_u\t & \tSR_p\t & \tSR_u\t & \tFPR_p\t & \tFPR_u\n",
      "mean\t & \t98.9\t & \t97.8\t & \t26.4\t & \t23.1\t & \t02.1\t & \t00.5\n"
     ]
    }
   ],
   "source": [
    "print_table_row(is_header=True, variable='Method')\n",
    "# output = get_performance_summary(baseline_fd, baseline_fd, estimator, get_predictions)\n",
    "output = get_performance_summary(train_fd, train_fd, estimator, get_predictions)"
   ]
  },
  {
   "cell_type": "code",
   "execution_count": 24,
   "metadata": {},
   "outputs": [],
   "source": [
    "pmod, umod, mod, _, _, _ = output"
   ]
  },
  {
   "cell_type": "code",
   "execution_count": 25,
   "metadata": {},
   "outputs": [
    {
     "data": {
      "text/plain": [
       "array([[ 0.03439641,  5.05969836],\n",
       "       [10.04692702, 14.75217504]])"
      ]
     },
     "execution_count": 25,
     "metadata": {},
     "output_type": "execute_result"
    }
   ],
   "source": [
    "pmod.theta_"
   ]
  },
  {
   "cell_type": "code",
   "execution_count": 26,
   "metadata": {},
   "outputs": [
    {
     "data": {
      "text/plain": [
       "array([[9.2099444 , 8.60846329],\n",
       "       [8.91501002, 9.06500865]])"
      ]
     },
     "execution_count": 26,
     "metadata": {},
     "output_type": "execute_result"
    }
   ],
   "source": [
    "pmod.sigma_"
   ]
  },
  {
   "cell_type": "code",
   "execution_count": 27,
   "metadata": {},
   "outputs": [
    {
     "data": {
      "text/plain": [
       "array([[-1.97182582,  3.31958762],\n",
       "       [ 7.96170928, 12.04500091]])"
      ]
     },
     "execution_count": 27,
     "metadata": {},
     "output_type": "execute_result"
    }
   ],
   "source": [
    "umod.theta_"
   ]
  },
  {
   "cell_type": "code",
   "execution_count": 28,
   "metadata": {},
   "outputs": [
    {
     "data": {
      "text/plain": [
       "array([[9.05645519, 7.1025452 ],\n",
       "       [9.03758089, 8.87262979]])"
      ]
     },
     "execution_count": 28,
     "metadata": {},
     "output_type": "execute_result"
    }
   ],
   "source": [
    "umod.sigma_"
   ]
  },
  {
   "cell_type": "code",
   "execution_count": 29,
   "metadata": {},
   "outputs": [
    {
     "data": {
      "text/plain": [
       "array([[-0.96871471,  4.18964299],\n",
       "       [ 9.00431815, 13.39858797]])"
      ]
     },
     "execution_count": 29,
     "metadata": {},
     "output_type": "execute_result"
    }
   ],
   "source": [
    "mod.theta_"
   ]
  },
  {
   "cell_type": "code",
   "execution_count": 30,
   "metadata": {},
   "outputs": [
    {
     "data": {
      "text/plain": [
       "array([[10.13943171,  8.61250059],\n",
       "       [10.06332871, 10.80101717]])"
      ]
     },
     "execution_count": 30,
     "metadata": {},
     "output_type": "execute_result"
    }
   ],
   "source": [
    "mod.sigma_"
   ]
  }
 ],
 "metadata": {
  "kernelspec": {
   "display_name": "Python 3",
   "language": "python",
   "name": "python3"
  },
  "language_info": {
   "codemirror_mode": {
    "name": "ipython",
    "version": 3
   },
   "file_extension": ".py",
   "mimetype": "text/x-python",
   "name": "python",
   "nbconvert_exporter": "python",
   "pygments_lexer": "ipython3",
   "version": "3.8.0"
  }
 },
 "nbformat": 4,
 "nbformat_minor": 1
}
