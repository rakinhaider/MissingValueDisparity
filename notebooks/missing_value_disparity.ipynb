{
 "cells": [
  {
   "cell_type": "code",
   "execution_count": 1,
   "metadata": {},
   "outputs": [],
   "source": [
    "import sys\n",
    "sys.path.insert(0,'../')"
   ]
  },
  {
   "cell_type": "code",
   "execution_count": null,
   "metadata": {
    "pycharm": {
     "is_executing": true
    }
   },
   "outputs": [],
   "source": [
    "import pandas as pd\n",
    "import numpy as np\n",
    "from utils import *\n",
    "from datasets.fair_dataset import FairDataset\n",
    "from IPython.display import display, Math"
   ]
  },
  {
   "cell_type": "code",
   "execution_count": null,
   "metadata": {
    "pycharm": {
     "is_executing": true
    }
   },
   "outputs": [],
   "source": [
    "class_shift = 10\n",
    "\n",
    "dist = {'mus': {1: np.array([10, 13]), \n",
    "                0: np.array([10 - class_shift, 13 - class_shift])},\n",
    "        'sigmas': [3, 3]\n",
    "       }"
   ]
  },
  {
   "cell_type": "code",
   "execution_count": null,
   "metadata": {
    "pycharm": {
     "is_executing": true
    }
   },
   "outputs": [],
   "source": [
    "group_shift = 0\n",
    "dist = {'mus':{'x1': {0: [0, 0 + group_shift], 1:[10, 10 + group_shift]},\n",
    "               'z': [0, 2]},\n",
    "        'sigmas': {'x1':{0: [5, 5], 1:[5, 5]},\n",
    "                   'z': [1, 1]}\n",
    "        }"
   ]
  },
  {
   "cell_type": "code",
   "execution_count": null,
   "metadata": {
    "pycharm": {
     "is_executing": true
    }
   },
   "outputs": [],
   "source": [
    "protected = [\"sex\"]\n",
    "privileged_classes = [['Male']]\n",
    "kwargs = {\n",
    "    'protected_attribute_names': ['sex'],\n",
    "    'privileged_group': 'Male',\n",
    "    'favorable_class': 1,\n",
    "    'classes': [0, 1],\n",
    "    'sensitive_groups': ['Female', 'Male'],\n",
    "    'group_shift': 0,\n",
    "    'alpha': 0.5, 'beta': 1, 'keep_im_prot': False,\n",
    "    'priv_ic_prob': 0.1, 'unpriv_ic_prob': 0.4,\n",
    "    'dist': dist\n",
    "}\n",
    "kwargs"
   ]
  },
  {
   "cell_type": "code",
   "execution_count": null,
   "metadata": {
    "pycharm": {
     "is_executing": true
    }
   },
   "outputs": [],
   "source": [
    "estimator = get_estimator('nb', False)\n",
    "keep_prot = False"
   ]
  },
  {
   "cell_type": "code",
   "execution_count": null,
   "metadata": {
    "pycharm": {
     "is_executing": true
    }
   },
   "outputs": [],
   "source": [
    "def get_performance_summary(train_fd, test_fd, estimator, prediction_func):\n",
    "    pmod, pmod_results = get_groupwise_performance(train_fd, test_fd,\n",
    "                                               estimator,\n",
    "                                               privileged=True,\n",
    "                                               pos_rate=False)\n",
    "    umod, umod_results = get_groupwise_performance(train_fd, test_fd,\n",
    "                                               estimator,\n",
    "                                               privileged=False,\n",
    "                                               pos_rate=False)\n",
    "    mod, mod_results = get_groupwise_performance(train_fd, test_fd,\n",
    "                                             estimator,\n",
    "                                             privileged=None,\n",
    "                                             pos_rate=False)\n",
    "\n",
    "    p_perf = get_model_performances(pmod, test_fd,\n",
    "                                prediction_func, keep_prot=keep_prot)\n",
    "    u_perf = get_model_performances(umod, test_fd,\n",
    "                                prediction_func, keep_prot=keep_prot)\n",
    "    m_perf = get_model_performances(mod, test_fd,\n",
    "                                prediction_func, keep_prot=keep_prot)\n",
    "    print(get_table_row(is_header=False, var_value='mean', p_perf=p_perf,\n",
    "                        u_perf=u_perf, m_perf=m_perf, variable='method'))\n",
    "    return pmod, umod, mod, p_perf, u_perf, m_perf"
   ]
  },
  {
   "cell_type": "code",
   "execution_count": null,
   "metadata": {
    "pycharm": {
     "is_executing": true
    }
   },
   "outputs": [],
   "source": [
    "import matplotlib.pyplot as plt\n",
    "import numpy as np\n",
    "import scipy.stats as stats\n",
    "\n",
    "def plot_normal(mu, sigma, ax, label=None):\n",
    "    x = np.linspace(mu - 3*sigma, mu + 3*sigma, 100)\n",
    "    ax.plot(x, stats.norm.pdf(x, mu, sigma), label=label)\n",
    "    \n",
    "def get_range(dist_table, i, j):\n",
    "    mus = [l[j] for l in dist_table[:, :, 0].flatten()]\n",
    "    sigmas = [l[j] for l in dist_table[:, :, 1].flatten()]\n",
    "    vals = [mu - 3*sigmas[i] for i, mu in enumerate(mus)] \n",
    "    vals += [mu + 3*sigmas[i] for i, mu in enumerate(mus)]\n",
    "    left = int(round(min(vals), 0))\n",
    "    right = int(round(max(vals), 0))    \n",
    "    return left, right\n",
    "    \n",
    "def plot_dist_table(dist_table, **kwargs):    \n",
    "    f, ax = plt.subplots(2, 2)\n",
    "    print(dist_table)\n",
    "    # i controls sensitive attribute\n",
    "    for i in range(2):\n",
    "        # i controls class\n",
    "        for j in range(2):\n",
    "            mus = dist_table[i][j][0]\n",
    "            sigmas = dist_table[i][j][1]\n",
    "            plot_normal(float(mus[0]), float(sigmas[0]), ax[i][0])\n",
    "            plot_normal(float(mus[1]), float(sigmas[1]), ax[i][1])\n",
    "\n",
    "    for i in range(2):\n",
    "        for j in range(2):\n",
    "            left, right = get_range(dist_table, j, i)\n",
    "            ax[j][i].set_xlim(left, right)\n",
    "            ax[j][i].set_xticks([i for i in range(left, right+1) if i%5 == 0])\n",
    "            ax[j][i].set_ylim(-0.01, 0.15)\n",
    "            \n",
    "    ax[0][0].set_title('Test Scores')\n",
    "    ax[0][1].set_title('GPA')\n",
    "\n",
    "    ax[1][0].set_ylabel('Privileged')\n",
    "    ax[0][0].set_ylabel('Unprivileged')\n",
    "\n",
    "    plt.subplots_adjust(wspace=0.25)\n",
    "\n",
    "def plot_group_config(group_config):\n",
    "    dist_table = np.reshape(group_config, (2,2,4))\n",
    "    plot_dist_table(dist_table)"
   ]
  },
  {
   "cell_type": "markdown",
   "metadata": {},
   "source": [
    "Test plot_dist_table()   "
   ]
  },
  {
   "cell_type": "code",
   "execution_count": null,
   "metadata": {
    "pycharm": {
     "is_executing": true
    }
   },
   "outputs": [],
   "source": [
    "group_config = [\n",
    "    ([5, 0], [3, 3], 0, 0),\n",
    "    ([5, 10], [3, 3], 0, 1),\n",
    "    ([0, 5], [3, 3], 1, 0),\n",
    "    ([10, 5], [3, 3], 1, 1)\n",
    "]\n",
    "plot_group_config(group_config)"
   ]
  },
  {
   "cell_type": "code",
   "execution_count": null,
   "metadata": {
    "pycharm": {
     "is_executing": true
    },
    "scrolled": true
   },
   "outputs": [],
   "source": [
    "train_fd, test_fd = get_synthetic_train_test_split(\n",
    "    type='corr', n_samples=10000, n_features=2,\n",
    "    train_random_state=47, test_random_state=41,\n",
    "    method='simple_imputer.mean', test_method='train',\n",
    "    **kwargs)"
   ]
  },
  {
   "cell_type": "code",
   "execution_count": null,
   "metadata": {
    "pycharm": {
     "is_executing": true
    }
   },
   "outputs": [],
   "source": [
    "complete_df = train_fd.complete_df.astype(float)"
   ]
  },
  {
   "cell_type": "code",
   "execution_count": null,
   "metadata": {
    "pycharm": {
     "is_executing": true
    }
   },
   "outputs": [],
   "source": [
    "for s in [0, 1]:\n",
    "    for y in [0, 1]:\n",
    "        sub_df = complete_df[(complete_df['sex'] == s) & (complete_df['label'] == y)]\n",
    "        print(sub_df.describe())\n",
    "        \n",
    "for y in [0, 1]:\n",
    "    sub_df = complete_df[(complete_df['label'] == y)]\n",
    "    print(sub_df.describe())"
   ]
  },
  {
   "cell_type": "code",
   "execution_count": null,
   "metadata": {
    "pycharm": {
     "is_executing": true
    }
   },
   "outputs": [],
   "source": [
    "train_fd.group_configs"
   ]
  },
  {
   "cell_type": "code",
   "execution_count": null,
   "metadata": {
    "pycharm": {
     "is_executing": true
    }
   },
   "outputs": [],
   "source": [
    "np.reshape(train_fd.group_configs, (2,2,4))"
   ]
  },
  {
   "cell_type": "code",
   "execution_count": null,
   "metadata": {
    "pycharm": {
     "is_executing": true
    }
   },
   "outputs": [],
   "source": [
    "plot_group_config(train_fd.group_configs)"
   ]
  },
  {
   "cell_type": "code",
   "execution_count": null,
   "metadata": {
    "pycharm": {
     "is_executing": true
    }
   },
   "outputs": [],
   "source": [
    "from sklearn.naive_bayes import GaussianNB\n",
    "model = GaussianNB()\n",
    "model.fit(complete_df[complete_df.columns[:-2]], complete_df[complete_df.columns[-1]])\n",
    "model.theta_"
   ]
  },
  {
   "cell_type": "code",
   "execution_count": null,
   "metadata": {
    "pycharm": {
     "is_executing": true
    }
   },
   "outputs": [],
   "source": [
    "model.classes_"
   ]
  },
  {
   "cell_type": "code",
   "execution_count": null,
   "metadata": {
    "pycharm": {
     "is_executing": true
    }
   },
   "outputs": [],
   "source": [
    "model.var_"
   ]
  },
  {
   "cell_type": "code",
   "execution_count": null,
   "metadata": {
    "pycharm": {
     "is_executing": true
    }
   },
   "outputs": [],
   "source": [
    "def get_df_group_config(df, precision=3):\n",
    "    df_gc = []\n",
    "    \n",
    "    for s in [0, 1]:\n",
    "        for l in [0, 1]:\n",
    "            desc = df[((df['sex'] == s) & (df['label'] == l))].describe()\n",
    "            mus = desc.loc['mean']\n",
    "            sigmas = desc.loc['std']\n",
    "            df_gc.append((\n",
    "                [round(mus[0], precision), round(mus[1], precision)], \n",
    "                [round(sigmas[0], precision), round(sigmas[1], precision)], s, l)\n",
    "            ) \n",
    "    print(*df_gc, sep='\\n')\n",
    "    return df_gc"
   ]
  },
  {
   "cell_type": "code",
   "execution_count": null,
   "metadata": {
    "pycharm": {
     "is_executing": true
    },
    "scrolled": true
   },
   "outputs": [],
   "source": [
    "group_config = get_df_group_config(complete_df)\n",
    "plot_group_config(group_config)"
   ]
  },
  {
   "cell_type": "code",
   "execution_count": null,
   "metadata": {
    "pycharm": {
     "is_executing": true
    }
   },
   "outputs": [],
   "source": [
    "incomplete_df = train_fd.get_incomplete_df()\n",
    "group_config = get_df_group_config(incomplete_df)\n",
    "plot_group_config(group_config)"
   ]
  },
  {
   "cell_type": "code",
   "execution_count": null,
   "metadata": {
    "pycharm": {
     "is_executing": true
    }
   },
   "outputs": [],
   "source": [
    "incomplete_df.describe()"
   ]
  },
  {
   "cell_type": "code",
   "execution_count": null,
   "metadata": {
    "pycharm": {
     "is_executing": true
    }
   },
   "outputs": [],
   "source": [
    "imputed_df = train_fd.imputed_df\n",
    "group_config = get_df_group_config(imputed_df)\n",
    "plot_group_config(group_config)\n",
    "print(complete_df.describe())\n",
    "print(imputed_df.describe())"
   ]
  },
  {
   "cell_type": "code",
   "execution_count": null,
   "metadata": {
    "pycharm": {
     "is_executing": true
    }
   },
   "outputs": [],
   "source": [
    "get_df_group_config(imputed_df)\n",
    "get_df_group_config(complete_df)"
   ]
  },
  {
   "cell_type": "code",
   "execution_count": null,
   "metadata": {
    "pycharm": {
     "is_executing": true
    }
   },
   "outputs": [],
   "source": [
    "complete_df[complete_df['sex'] == 0].corr()"
   ]
  },
  {
   "cell_type": "code",
   "execution_count": null,
   "metadata": {
    "pycharm": {
     "is_executing": true
    }
   },
   "outputs": [],
   "source": [
    "complete_df[complete_df['sex'] == 1].corr()"
   ]
  },
  {
   "cell_type": "code",
   "execution_count": null,
   "metadata": {
    "pycharm": {
     "is_executing": true
    }
   },
   "outputs": [],
   "source": [
    "imputed_df[imputed_df['sex'] == 0].corr()"
   ]
  },
  {
   "cell_type": "code",
   "execution_count": null,
   "metadata": {
    "pycharm": {
     "is_executing": true
    }
   },
   "outputs": [],
   "source": [
    "imputed_df[imputed_df['sex'] == 1].corr()"
   ]
  },
  {
   "cell_type": "code",
   "execution_count": null,
   "metadata": {
    "pycharm": {
     "is_executing": true
    }
   },
   "outputs": [],
   "source": [
    "print(all(test_fd.complete_df == test_fd.imputed_df))\n",
    "test_df = test_fd.imputed_df\n",
    "get_df_group_config(test_df)"
   ]
  },
  {
   "cell_type": "code",
   "execution_count": null,
   "metadata": {
    "pycharm": {
     "is_executing": true
    }
   },
   "outputs": [],
   "source": [
    "print(get_table_row(is_header=True, variable='Method'))\n",
    "# output = get_performance_summary(baseline_fd, baseline_fd, estimator, get_predictions)\n",
    "output = get_performance_summary(train_fd, test_fd, estimator, get_predictions)"
   ]
  },
  {
   "cell_type": "code",
   "execution_count": null,
   "metadata": {
    "pycharm": {
     "is_executing": true
    }
   },
   "outputs": [],
   "source": [
    "pmod, umod, mod, _, _, _ = output"
   ]
  },
  {
   "cell_type": "code",
   "execution_count": null,
   "metadata": {
    "pycharm": {
     "is_executing": true
    }
   },
   "outputs": [],
   "source": [
    "pmod.theta_"
   ]
  },
  {
   "cell_type": "code",
   "execution_count": null,
   "metadata": {
    "pycharm": {
     "is_executing": true
    }
   },
   "outputs": [],
   "source": [
    "pmod.var_"
   ]
  },
  {
   "cell_type": "code",
   "execution_count": null,
   "metadata": {
    "pycharm": {
     "is_executing": true
    }
   },
   "outputs": [],
   "source": [
    "umod.theta_"
   ]
  },
  {
   "cell_type": "code",
   "execution_count": null,
   "metadata": {
    "pycharm": {
     "is_executing": true
    }
   },
   "outputs": [],
   "source": [
    "umod.var_"
   ]
  },
  {
   "cell_type": "code",
   "execution_count": null,
   "metadata": {
    "pycharm": {
     "is_executing": true
    }
   },
   "outputs": [],
   "source": [
    "mod.theta_"
   ]
  },
  {
   "cell_type": "code",
   "execution_count": null,
   "metadata": {
    "pycharm": {
     "is_executing": true
    }
   },
   "outputs": [],
   "source": [
    "mod.var_"
   ]
  },
  {
   "cell_type": "code",
   "execution_count": null,
   "metadata": {
    "pycharm": {
     "is_executing": true
    }
   },
   "outputs": [],
   "source": [
    "group_configs = get_df_group_config(test_fd.imputed_df)\n",
    "plot_group_config(group_configs)\n",
    "figure = plt.gcf()\n",
    "axes = figure.get_axes()\n",
    "means = np.mean(mod.theta_, axis=0)\n",
    "print(means)\n",
    "print(axes)\n",
    "for i in [0, 1]:\n",
    "    for j in [0, 1]:\n",
    "        print(means[i])\n",
    "        axes[2*i + j].axvline(means[j])"
   ]
  },
  {
   "cell_type": "markdown",
   "metadata": {},
   "source": [
    "Gamma is complete case probability"
   ]
  },
  {
   "cell_type": "code",
   "execution_count": null,
   "metadata": {
    "pycharm": {
     "is_executing": true
    }
   },
   "outputs": [],
   "source": [
    "alpha = 0.25\n",
    "beta = 1\n",
    "alpha_y = np.array([[alpha], [1-alpha]])\n",
    "prob_s = np.array([1/(1+beta), beta/(1+beta)])\n",
    "gamma_s = np.array([0.9, 0.6])"
   ]
  },
  {
   "cell_type": "code",
   "execution_count": null,
   "metadata": {
    "pycharm": {
     "is_executing": true
    }
   },
   "outputs": [],
   "source": [
    "mu = np.array([[[1, 2], [11, 12]],\n",
    "               [[0, 3], [10, 13]]])\n",
    "\n",
    "var = np.array([[[3, 3], [3, 3]],\n",
    "                [[3, 3], [3, 3]]])"
   ]
  },
  {
   "cell_type": "code",
   "execution_count": null,
   "metadata": {
    "pycharm": {
     "is_executing": true
    }
   },
   "outputs": [],
   "source": [
    "mu_plus = (prob_s * mu[:, 1]).sum(axis=0)\n",
    "mu_minus = (prob_s * mu[:, 0]).sum(axis=0)\n",
    "print(mu_plus, mu_minus)"
   ]
  },
  {
   "cell_type": "code",
   "execution_count": null,
   "metadata": {
    "pycharm": {
     "is_executing": true
    }
   },
   "outputs": [],
   "source": [
    "mu_s = (alpha_y * mu).sum(axis=1)\n",
    "print(mu_s)"
   ]
  },
  {
   "cell_type": "markdown",
   "metadata": {},
   "source": [
    "$\\newcommand{\\bvec}[1]{\\boldsymbol{\\mathrm{#1}}}\n",
    "\\newcommand{\\redtext}[1]{\\color{red}#1\\color{black}}\n",
    "\\newcommand{\\numberthis}[0]{\\stepcounter{equation}\\tag{\\theequation}}\n",
    "\\newcommand{\\mynorm}[1]{\\mid \\mid #1 \\mid \\mid}\n",
    "\\newcommand{\\dep}{\\perp \\!\\!\\! \\perp}\n",
    "\\newcommand{\\indep}{\\centernot{\\dep}}\n",
    "\\newcommand{\\dsP}{P}\n",
    "\\newcommand{\\dsE}{E}$\n",
    "\\begin{align*}\n",
    "\\dsE[\\bvec{x} | \\bvec{r} = \\bar{0}] =& \\sum_{s}{\\dfrac{\\gamma_s\\dsP(s)}{\\sum_{s}{\\gamma_s \\dsP(s)}}\\mu^{s}}\\\\\n",
    "\\end{align*}\n"
   ]
  },
  {
   "cell_type": "code",
   "execution_count": null,
   "metadata": {
    "pycharm": {
     "is_executing": true
    }
   },
   "outputs": [],
   "source": [
    "# mu_impute = ((prob_s * gamma_s * mu_s)/ (prob_s * gamma_s).sum()).sum()\n",
    "mu_impute = gamma_s * mu_s\n",
    "print('mu_impute', mu_impute)\n",
    "\n",
    "mu_s_imputed = (prob_s * gamma_s) * mu_s + prob_s * (1 - gamma_s) * mu_impute\n",
    "print('mu_s_imputed', mu_s_imputed)\n",
    "mu_dash = mu_s_imputed.sum()\n",
    "print('mu_dash', mu_dash)\n",
    "assert mu_impute == mu_dash"
   ]
  },
  {
   "cell_type": "markdown",
   "metadata": {
    "pycharm": {
     "is_executing": true
    }
   },
   "source": [
    "\\begin{align*}\n",
    "\\dsE[\\bvec{x}^\\prime \\mid s, y] &= \\sum_{\\bvec{r}}{\\dsP(\\bvec{r} \\mid s, y)\\dsE[\\bvec{x}^\\prime \\mid \\bvec{r}, s, y]}\\\\\n",
    "&= \\left[\\dsP(\\bvec{r}=\\bar{0}|s) \\dsE[\\bvec{x}' \\mid s, y, \\bvec{r}=\\bar{0}] + \\dsP(\\bvec{r} \\neq 0 | s) \\dsE[\\bvec{x}' \\mid s, y, \\bvec{r} \\neq 0]\\right]\\\\\n",
    "&= \\gamma_s \\dsE[\\bvec{x} \\mid s, y] + (1-\\gamma_s) \\mu_{\\bvec{r}=0}\\\\\n",
    "\\end{align*}\n"
   ]
  },
  {
   "cell_type": "code",
   "execution_count": null,
   "metadata": {
    "pycharm": {
     "is_executing": true
    }
   },
   "outputs": [],
   "source": [
    "display(Math(r'$E[x^\\prime | s, +]$'))\n",
    "mu_prime_s_plus = gamma_s * mu_plus + (1-gamma_s) * mu_impute\n",
    "print(mu_prime_s_plus)\n",
    "\n",
    "display(Math(r'$E[x^\\prime | s, -]$'))\n",
    "mu_prime_s_minus = gamma_s * mu_minus + (1-gamma_s) * mu_impute\n",
    "print(mu_prime_s_minus)"
   ]
  },
  {
   "cell_type": "markdown",
   "metadata": {},
   "source": [
    "\\begin{align*}\n",
    "E[\\bvec{x}^{\\prime} \\mid y] =& \\sum_s{P(s) E[\\bvec{x}^{\\prime} \\mid s, y]}\\\\\n",
    "=& P(p) E[\\bvec{x}^{\\prime} \\mid p, y] + P(u) E[\\bvec{x}^{\\prime} \\mid u, y]\\\\\n",
    "=& \\dfrac{\\beta}{1+\\beta} E[\\bvec{x}^{\\prime} \\mid p, y] + \\dfrac{1}{1+\\beta} E[\\bvec{x}^{\\prime} \\mid u, y]\n",
    "\\end{align*}"
   ]
  },
  {
   "cell_type": "code",
   "execution_count": null,
   "metadata": {
    "pycharm": {
     "is_executing": true
    }
   },
   "outputs": [],
   "source": [
    "prob_s * mu_prime_s_plus + (1-prob_s) * mu_prime_s_minus"
   ]
  },
  {
   "cell_type": "code",
   "execution_count": null,
   "metadata": {
    "pycharm": {
     "is_executing": true
    }
   },
   "outputs": [],
   "source": [
    "# group_config = get_df_group_config(imputed_df)\n",
    "# plot_group_config(group_config)\n",
    "# plt.gca()\n",
    "# mus = mod.theta_.mean(axis=0)\n",
    "# decision_mus = np.array([mus, mus]).flatten()\n",
    "# for a, x_line in zip(plt.gcf().get_axes(), decision_mus):\n",
    "#     a.vlines(x_line, -1, 1)"
   ]
  },
  {
   "cell_type": "code",
   "execution_count": null,
   "metadata": {
    "pycharm": {
     "is_executing": true
    }
   },
   "outputs": [],
   "source": [
    "get_df_group_config(imputed_df)"
   ]
  },
  {
   "cell_type": "code",
   "execution_count": null,
   "metadata": {
    "pycharm": {
     "is_executing": true
    }
   },
   "outputs": [],
   "source": [
    "group_config = [\n",
    "    ([0, 0], [3, 3], 0, 0),\n",
    "    ([0, 0], [3, 3], 1, 0),\n",
    "    ([10, 13], [3, 3], 0, 1),\n",
    "    ([10, 13], [3, 3], 1, 1)\n",
    "]\n",
    "group_config = get_df_group_config(imputed_df)\n",
    "plot_group_config(group_config)\n",
    "plt.gca()\n",
    "mus = mod.theta_.mean(axis=0)\n",
    "decision_mus = np.array([mus, mus]).flatten()\n",
    "for a, x_line in zip(plt.gcf().get_axes(), decision_mus):\n",
    "    a.vlines(x_line, -1, 1)"
   ]
  },
  {
   "cell_type": "markdown",
   "metadata": {
    "pycharm": {
     "is_executing": true
    }
   },
   "source": [
    "Test data"
   ]
  },
  {
   "cell_type": "code",
   "execution_count": null,
   "metadata": {
    "pycharm": {
     "is_executing": true
    }
   },
   "outputs": [],
   "source": [
    "alpha = 0.5\n",
    "beta = 1\n",
    "alpha_y = np.array([[alpha], [1-alpha]])\n",
    "prob_s = np.array([1/(1+beta), beta/(1+beta)])\n",
    "gamma_s = np.array([1, 0.6])"
   ]
  },
  {
   "cell_type": "code",
   "execution_count": null,
   "metadata": {
    "pycharm": {
     "is_executing": true
    }
   },
   "outputs": [],
   "source": [
    "df = pd.read_csv('data.tsv', sep='\\t')\n",
    "print(df)"
   ]
  },
  {
   "cell_type": "code",
   "execution_count": null,
   "metadata": {
    "pycharm": {
     "is_executing": true
    }
   },
   "outputs": [],
   "source": [
    "def get_column_stats(df, column):\n",
    "    statistics = []\n",
    "    for (s, y), grp in df.groupby(['s', 'y']):\n",
    "        statistics.append([s, y, grp[column].mean(), grp[column].var()])\n",
    "\n",
    "    for s, grp in df.groupby(['s']):\n",
    "        statistics.append([s, -1, grp[column].mean(), grp[column].var()])\n",
    "\n",
    "    for y, grp in df.groupby(['y']):\n",
    "        statistics.append([-1, y, grp[column].mean(), grp[column].var()])\n",
    "\n",
    "    statistics.append([-1, -1, df[column].mean(), df[column].var()])\n",
    "\n",
    "    statistics = pd.DataFrame(statistics, columns=['s', 'y', 'mean', 'var'])\n",
    "    return statistics"
   ]
  },
  {
   "cell_type": "code",
   "execution_count": null,
   "metadata": {
    "pycharm": {
     "is_executing": true
    }
   },
   "outputs": [],
   "source": [
    "orig_stats = get_column_stats(df, 'x_orig')\n",
    "orig_stats"
   ]
  },
  {
   "cell_type": "markdown",
   "metadata": {},
   "source": [
    "$\\newcommand{\\bvec}[1]{\\boldsymbol{\\mathrm{#1}}}\n",
    "\\newcommand{\\redtext}[1]{\\color{red}#1\\color{black}}\n",
    "\\newcommand{\\numberthis}[0]{\\stepcounter{equation}\\tag{\\theequation}}\n",
    "\\newcommand{\\mynorm}[1]{\\mid \\mid #1 \\mid \\mid}\n",
    "\\newcommand{\\dep}{\\perp \\!\\!\\! \\perp}\n",
    "\\newcommand{\\indep}{\\centernot{\\dep}}\n",
    "\\newcommand{\\dsP}{P}\n",
    "\\newcommand{\\dsE}{E}$\n",
    "\\begin{align*}\n",
    "\\dsE[\\bvec{x} | \\bvec{r} = \\bar{0}] =& \\sum_{s}{\\dfrac{\\gamma_s\\dsP(s)}{\\sum_{s}{\\gamma_s \\dsP(s)}}\\mu^{s}}\\\\\n",
    "\\end{align*}\n"
   ]
  },
  {
   "cell_type": "code",
   "execution_count": null,
   "metadata": {
    "pycharm": {
     "is_executing": true
    }
   },
   "outputs": [],
   "source": [
    "orig_stats_s = orig_stats[(orig_stats['s'] != -1) & (orig_stats['y'] == -1)]\n",
    "mu_impute = (gamma_s * prob_s * orig_stats_s['mean'].values / (gamma_s * prob_s).sum()).sum()\n",
    "mu_impute"
   ]
  },
  {
   "cell_type": "code",
   "execution_count": null,
   "metadata": {
    "pycharm": {
     "is_executing": true
    }
   },
   "outputs": [],
   "source": [
    "get_column_stats(df, 'x_miss')"
   ]
  },
  {
   "cell_type": "markdown",
   "metadata": {},
   "source": [
    "Random"
   ]
  },
  {
   "cell_type": "code",
   "execution_count": 31,
   "metadata": {},
   "outputs": [],
   "source": [
    "mu_p_1 = 13\n",
    "mu_p_0 = 3\n",
    "mu_u_1 = 10\n",
    "mu_u_0 = 0"
   ]
  },
  {
   "cell_type": "code",
   "execution_count": 33,
   "metadata": {},
   "outputs": [],
   "source": [
    "gamma_p = 0.9\n",
    "gamma_u = 0.7\n",
    "alpha = 0.5"
   ]
  },
  {
   "cell_type": "code",
   "execution_count": 37,
   "metadata": {},
   "outputs": [],
   "source": [
    "mu_p = alpha * mu_p_1 + (1-alpha)*mu_p_0\n",
    "mu_u = alpha * mu_u_1 + (1-alpha)*mu_u_0"
   ]
  },
  {
   "cell_type": "code",
   "execution_count": 38,
   "metadata": {},
   "outputs": [
    {
     "data": {
      "text/plain": [
       "(8.0, 5.0)"
      ]
     },
     "execution_count": 38,
     "metadata": {},
     "output_type": "execute_result"
    }
   ],
   "source": [
    "mu_p, mu_u"
   ]
  },
  {
   "cell_type": "code",
   "execution_count": 39,
   "metadata": {},
   "outputs": [],
   "source": [
    "mu_m = (gamma_p * mu_p + gamma_u * mu_u) / (gamma_p + gamma_u)"
   ]
  },
  {
   "cell_type": "code",
   "execution_count": 42,
   "metadata": {},
   "outputs": [],
   "source": [
    "term_1 = (mu_p_1 + mu_u_1) - 2*mu_m "
   ]
  },
  {
   "cell_type": "code",
   "execution_count": 44,
   "metadata": {},
   "outputs": [],
   "source": [
    "term_2 = -(gamma_p * mu_p_1 + gamma_u * mu_u_1) + (gamma_p + gamma_u) * mu_m"
   ]
  },
  {
   "cell_type": "code",
   "execution_count": 46,
   "metadata": {},
   "outputs": [
    {
     "data": {
      "text/plain": [
       "True"
      ]
     },
     "execution_count": 46,
     "metadata": {},
     "output_type": "execute_result"
    }
   ],
   "source": [
    "term_1 > term_2"
   ]
  },
  {
   "cell_type": "code",
   "execution_count": 47,
   "metadata": {},
   "outputs": [],
   "source": [
    "mu_1_prime = 0.5*(gamma_p * mu_p_1 + gamma_u * mu_u_1) + (1 - (gamma_p + gamma_u)/ 2) * mu_m"
   ]
  },
  {
   "cell_type": "code",
   "execution_count": 48,
   "metadata": {},
   "outputs": [
    {
     "data": {
      "text/plain": [
       "10.6875"
      ]
     },
     "execution_count": 48,
     "metadata": {},
     "output_type": "execute_result"
    }
   ],
   "source": [
    "mu_1_prime"
   ]
  },
  {
   "cell_type": "code",
   "execution_count": 51,
   "metadata": {},
   "outputs": [],
   "source": [
    "mu_p_1_prime = gamma_p * mu_p_1 + (1-gamma_p) * mu_m\n",
    "mu_p_0_prime = gamma_p * mu_p_0 + (1-gamma_p) * mu_m"
   ]
  },
  {
   "cell_type": "code",
   "execution_count": 53,
   "metadata": {},
   "outputs": [
    {
     "data": {
      "text/plain": [
       "(12.36875, 3.36875)"
      ]
     },
     "execution_count": 53,
     "metadata": {},
     "output_type": "execute_result"
    }
   ],
   "source": [
    "mu_p_1_prime, mu_p_0_prime"
   ]
  },
  {
   "cell_type": "code",
   "execution_count": 54,
   "metadata": {},
   "outputs": [],
   "source": [
    "mu_u_1_prime = gamma_u * mu_u_1 + (1-gamma_u) * mu_m\n",
    "mu_u_0_prime = gamma_u * mu_u_0 + (1-gamma_u) * mu_m"
   ]
  },
  {
   "cell_type": "code",
   "execution_count": 55,
   "metadata": {},
   "outputs": [
    {
     "data": {
      "text/plain": [
       "(9.00625, 2.00625)"
      ]
     },
     "execution_count": 55,
     "metadata": {},
     "output_type": "execute_result"
    }
   ],
   "source": [
    "mu_u_1_prime, mu_u_0_prime"
   ]
  },
  {
   "cell_type": "code",
   "execution_count": 56,
   "metadata": {},
   "outputs": [],
   "source": [
    "mu_1_prime = (gamma_p * mu_p_1_prime + gamma_u * mu_u_1_prime)/(gamma_p + gamma_u) "
   ]
  },
  {
   "cell_type": "code",
   "execution_count": 57,
   "metadata": {},
   "outputs": [
    {
     "data": {
      "text/plain": [
       "10.89765625"
      ]
     },
     "execution_count": 57,
     "metadata": {},
     "output_type": "execute_result"
    }
   ],
   "source": [
    "mu_1_prime"
   ]
  },
  {
   "cell_type": "code",
   "execution_count": 58,
   "metadata": {},
   "outputs": [],
   "source": [
    "mu_0_prime = (gamma_p * mu_p_0_prime + gamma_u * mu_u_0_prime)/(gamma_p + gamma_u) "
   ]
  },
  {
   "cell_type": "code",
   "execution_count": 59,
   "metadata": {},
   "outputs": [
    {
     "data": {
      "text/plain": [
       "2.7726562499999994"
      ]
     },
     "execution_count": 59,
     "metadata": {},
     "output_type": "execute_result"
    }
   ],
   "source": [
    "mu_0_prime"
   ]
  },
  {
   "cell_type": "code",
   "execution_count": 60,
   "metadata": {},
   "outputs": [
    {
     "data": {
      "text/plain": [
       "4.41984924316406"
      ]
     },
     "execution_count": 60,
     "metadata": {},
     "output_type": "execute_result"
    }
   ],
   "source": [
    "(mu_p_1 - mu_1_prime)**2"
   ]
  },
  {
   "cell_type": "code",
   "execution_count": 61,
   "metadata": {},
   "outputs": [
    {
     "data": {
      "text/plain": [
       "0.8057867431640637"
      ]
     },
     "execution_count": 61,
     "metadata": {},
     "output_type": "execute_result"
    }
   ],
   "source": [
    "(mu_u_1 - mu_1_prime)**2"
   ]
  },
  {
   "cell_type": "code",
   "execution_count": null,
   "metadata": {},
   "outputs": [],
   "source": []
  }
 ],
 "metadata": {
  "kernelspec": {
   "display_name": "Python 3 (ipykernel)",
   "language": "python",
   "name": "python3"
  },
  "language_info": {
   "codemirror_mode": {
    "name": "ipython",
    "version": 3
   },
   "file_extension": ".py",
   "mimetype": "text/x-python",
   "name": "python",
   "nbconvert_exporter": "python",
   "pygments_lexer": "ipython3",
   "version": "3.7.0"
  }
 },
 "nbformat": 4,
 "nbformat_minor": 1
}