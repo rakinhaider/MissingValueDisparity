{
 "cells": [
  {
   "cell_type": "code",
   "execution_count": 1,
   "metadata": {},
   "outputs": [
    {
     "data": {
      "text/plain": [
       "['../',\n",
       " 'D:\\\\Thesis\\\\MachineFairness\\\\ContexualFairness\\\\2022-1Spring\\\\MissingValueDisparity\\\\notebooks',\n",
       " 'c:\\\\python38_64\\\\python38.zip',\n",
       " 'c:\\\\python38_64\\\\DLLs',\n",
       " 'c:\\\\python38_64\\\\lib',\n",
       " 'c:\\\\python38_64',\n",
       " '',\n",
       " 'C:\\\\Users\\\\Rakin\\\\AppData\\\\Roaming\\\\Python\\\\Python38\\\\site-packages',\n",
       " 'c:\\\\python38_64\\\\lib\\\\site-packages',\n",
       " 'c:\\\\python38_64\\\\lib\\\\site-packages\\\\pgmpy-0.1.15-py3.8.egg',\n",
       " 'c:\\\\python38_64\\\\lib\\\\site-packages\\\\win32',\n",
       " 'c:\\\\python38_64\\\\lib\\\\site-packages\\\\win32\\\\lib',\n",
       " 'c:\\\\python38_64\\\\lib\\\\site-packages\\\\Pythonwin',\n",
       " 'c:\\\\python38_64\\\\lib\\\\site-packages\\\\IPython\\\\extensions',\n",
       " 'C:\\\\Users\\\\Rakin\\\\.ipython']"
      ]
     },
     "execution_count": 1,
     "metadata": {},
     "output_type": "execute_result"
    }
   ],
   "source": [
    "import sys\n",
    "sys.path.insert(0,'../')\n",
    "sys.path"
   ]
  },
  {
   "cell_type": "code",
   "execution_count": 2,
   "metadata": {
    "pycharm": {
     "is_executing": true
    }
   },
   "outputs": [],
   "source": [
    "import numpy as np\n",
    "from utils import *\n",
    "from datasets.fair_dataset import FairDataset"
   ]
  },
  {
   "cell_type": "code",
   "execution_count": 3,
   "metadata": {},
   "outputs": [],
   "source": [
    "protected = [\"sex\"]\n",
    "privileged_classes = [['Male']]\n",
    "class_shift = 10\n",
    "kwargs = {\n",
    "    'protected_attribute_names': ['sex'],\n",
    "    'privileged_group': 'Male',\n",
    "    'favorable_class': 1,\n",
    "    'classes': [0, 1],\n",
    "    'sensitive_groups': ['Female', 'Male'],\n",
    "    'group_shift': 0,\n",
    "    'alpha': 0.25, 'beta': 1,\n",
    "    'dist': {'mus': {1: np.array([10, 15]), \n",
    "                     0: np.array([10 - class_shift, 15 - class_shift])}, 'sigmas': [3, 3]}\n",
    "}"
   ]
  },
  {
   "cell_type": "code",
   "execution_count": 4,
   "metadata": {},
   "outputs": [],
   "source": [
    "estimator = get_estimator('nb', False)\n",
    "keep_prot = False"
   ]
  },
  {
   "cell_type": "code",
   "execution_count": 5,
   "metadata": {},
   "outputs": [],
   "source": [
    "def get_performance_summary(train_fd, test_fd, estimator, prediction_func):\n",
    "    pmod, pmod_results = get_groupwise_performance(train_fd, test_fd,\n",
    "                                               estimator,\n",
    "                                               privileged=True,\n",
    "                                               pos_rate=False)\n",
    "    umod, umod_results = get_groupwise_performance(train_fd, test_fd,\n",
    "                                               estimator,\n",
    "                                               privileged=False,\n",
    "                                               pos_rate=False)\n",
    "    mod, mod_results = get_groupwise_performance(train_fd, test_fd,\n",
    "                                             estimator,\n",
    "                                             privileged=None,\n",
    "                                             pos_rate=False)\n",
    "\n",
    "    p_perf = get_model_performances(pmod, test_fd,\n",
    "                                prediction_func, keep_prot=keep_prot)\n",
    "    u_perf = get_model_performances(umod, test_fd,\n",
    "                                prediction_func, keep_prot=keep_prot)\n",
    "    m_perf = get_model_performances(mod, test_fd,\n",
    "                                prediction_func, keep_prot=keep_prot)\n",
    "    print_table_row(is_header=False, var_value='mean', p_perf=p_perf,\n",
    "                        u_perf=u_perf, m_perf=m_perf, variable='method')\n",
    "    return pmod, umod, mod, p_perf, u_perf, m_perf"
   ]
  },
  {
   "cell_type": "code",
   "execution_count": 6,
   "metadata": {},
   "outputs": [
    {
     "name": "stdout",
     "output_type": "stream",
     "text": [
      "{'n_redline': 1, 'random_seed': 47, 'n_samples': 10000, 'n_features': 2, 'protected_attribute_names': ['sex'], 'privileged_group': 'Male', 'favorable_class': 1, 'classes': [0, 1], 'sensitive_groups': ['Female', 'Male'], 'group_shift': 0, 'alpha': 0.25, 'beta': 1, 'dist': {'mus': {1: array([10, 15]), 0: array([0, 5])}, 'sigmas': [3, 3]}, 'method': 'simple_imputer.mean'}\n",
      "{'n_redline': 1, 'random_seed': 41, 'imputer': SimpleImputer(), 'n_samples': 10000, 'n_features': 2, 'protected_attribute_names': ['sex'], 'privileged_group': 'Male', 'favorable_class': 1, 'classes': [0, 1], 'sensitive_groups': ['Female', 'Male'], 'group_shift': 0, 'alpha': 0.25, 'beta': 1, 'dist': {'mus': {1: array([10, 15]), 0: array([0, 5])}, 'sigmas': [3, 3]}, 'method': 'simple_imputer.mean'}\n"
     ]
    },
    {
     "name": "stderr",
     "output_type": "stream",
     "text": [
      "Changing the sparsity structure of a csr_matrix is expensive. lil_matrix is more efficient.\n",
      "Changing the sparsity structure of a csr_matrix is expensive. lil_matrix is more efficient.\n",
      "Changing the sparsity structure of a csr_matrix is expensive. lil_matrix is more efficient.\n"
     ]
    },
    {
     "name": "stdout",
     "output_type": "stream",
     "text": [
      "               0          1  sex  label\n",
      "0       4.187863        NaN  0.0    0.0\n",
      "1       5.751583   2.224400  0.0    0.0\n",
      "2       6.701431   1.879459  0.0    0.0\n",
      "3       4.538972   7.369555  0.0    0.0\n",
      "4       1.321352   2.155979  0.0    0.0\n",
      "...          ...        ...  ...    ...\n",
      "24995   8.061156   8.729148  1.0    1.0\n",
      "24996   3.200909  10.595855  1.0    1.0\n",
      "24997  12.299590  10.174539  1.0    1.0\n",
      "24998   9.108419  10.880650  1.0    1.0\n",
      "24999  15.231006   5.475872  1.0    1.0\n",
      "\n",
      "[25000 rows x 4 columns]\n",
      "['0', '1']\n",
      "               0          1\n",
      "0       4.187863        NaN\n",
      "1       5.751583   2.224400\n",
      "2       6.701431   1.879459\n",
      "3       4.538972   7.369555\n",
      "4       1.321352   2.155979\n",
      "...          ...        ...\n",
      "24995   8.061156   8.729148\n",
      "24996   3.200909  10.595855\n",
      "24997  12.299590  10.174539\n",
      "24998   9.108419  10.880650\n",
      "24999  15.231006   5.475872\n",
      "\n",
      "[25000 rows x 2 columns]\n"
     ]
    },
    {
     "name": "stderr",
     "output_type": "stream",
     "text": [
      "Changing the sparsity structure of a csr_matrix is expensive. lil_matrix is more efficient.\n"
     ]
    }
   ],
   "source": [
    "train_fd, test_fd = get_datasets(\n",
    "    type='ds_ccd', n_samples=10000, n_features=2,\n",
    "    train_random_state=47, test_random_state=41,\n",
    "    **kwargs, method='simple_imputer.mean')"
   ]
  },
  {
   "cell_type": "code",
   "execution_count": 7,
   "metadata": {},
   "outputs": [],
   "source": [
    "complete_df = train_fd.complete_df.astype(float)"
   ]
  },
  {
   "cell_type": "code",
   "execution_count": 8,
   "metadata": {},
   "outputs": [
    {
     "data": {
      "text/plain": [
       "[([5.0, 5], [3, 3], 0, 0),\n",
       " ([0, 10.0], [3, 3], 1, 0),\n",
       " ([5.0, 15], [3, 3], 0, 1),\n",
       " ([10, 10.0], [3, 3], 1, 1)]"
      ]
     },
     "execution_count": 8,
     "metadata": {},
     "output_type": "execute_result"
    }
   ],
   "source": [
    "train_fd.group_configs"
   ]
  },
  {
   "cell_type": "code",
   "execution_count": 9,
   "metadata": {},
   "outputs": [
    {
     "data": {
      "text/plain": [
       "array([[ 2.52454351,  7.49482017,  0.5       ],\n",
       "       [ 7.51887714, 12.51922959,  0.5       ]])"
      ]
     },
     "execution_count": 9,
     "metadata": {},
     "output_type": "execute_result"
    }
   ],
   "source": [
    "from sklearn.naive_bayes import GaussianNB\n",
    "model = GaussianNB()\n",
    "model.fit(complete_df[complete_df.columns[:-1]], complete_df[complete_df.columns[-1]])\n",
    "model.theta_"
   ]
  },
  {
   "cell_type": "code",
   "execution_count": 10,
   "metadata": {},
   "outputs": [
    {
     "data": {
      "text/plain": [
       "array([[15.36399082, 15.43459251,  0.25000002],\n",
       "       [15.01558608, 14.62920217,  0.25000002]])"
      ]
     },
     "execution_count": 10,
     "metadata": {},
     "output_type": "execute_result"
    }
   ],
   "source": [
    "model.sigma_"
   ]
  },
  {
   "cell_type": "code",
   "execution_count": 11,
   "metadata": {},
   "outputs": [],
   "source": [
    "baseline_fd = FairDataset(df=complete_df, protected_attribute_names=['sex'])"
   ]
  },
  {
   "cell_type": "code",
   "execution_count": 12,
   "metadata": {},
   "outputs": [
    {
     "name": "stdout",
     "output_type": "stream",
     "text": [
      "s 0 label 0\n",
      "                  0             1      sex    label\n",
      "count  10000.000000  10000.000000  10000.0  10000.0\n",
      "mean       5.028427      4.957250      0.0      0.0\n",
      "std        3.027555      2.996059      0.0      0.0\n",
      "min       -7.679162     -6.693075      0.0      0.0\n",
      "25%        2.968444      2.887698      0.0      0.0\n",
      "50%        5.034149      4.930117      0.0      0.0\n",
      "75%        7.082838      6.955998      0.0      0.0\n",
      "max       17.733290     15.507203      0.0      0.0\n",
      "s 0 label 1\n",
      "                 0            1     sex   label\n",
      "count  2500.000000  2500.000000  2500.0  2500.0\n",
      "mean      5.040839    15.009477     0.0     1.0\n",
      "std       2.980293     2.913850     0.0     0.0\n",
      "min      -6.494888     5.767241     0.0     1.0\n",
      "25%       3.019072    13.018414     0.0     1.0\n",
      "50%       5.064649    14.997273     0.0     1.0\n",
      "75%       7.034455    16.995055     0.0     1.0\n",
      "max      14.436139    24.943924     0.0     1.0\n",
      "s 1 label 0\n",
      "                  0             1      sex    label\n",
      "count  10000.000000  10000.000000  10000.0  10000.0\n",
      "mean       0.020660     10.032391      1.0      0.0\n",
      "std        3.004137      3.002679      0.0      0.0\n",
      "min      -11.587590     -2.286750      1.0      0.0\n",
      "25%       -1.992642      8.009253      1.0      0.0\n",
      "50%        0.008592      9.980879      1.0      0.0\n",
      "75%        2.026469     12.028521      1.0      0.0\n",
      "max       10.644610     22.165284      1.0      0.0\n",
      "s 1 label 1\n",
      "                 0            1     sex   label\n",
      "count  2500.000000  2500.000000  2500.0  2500.0\n",
      "mean      9.996915    10.028982     1.0     1.0\n",
      "std       2.979057     2.893434     0.0     0.0\n",
      "min      -2.190398     0.543134     1.0     1.0\n",
      "25%       7.931886     8.037261     1.0     1.0\n",
      "50%      10.038676    10.059514     1.0     1.0\n",
      "75%      11.966776    11.998479     1.0     1.0\n",
      "max      19.730111    19.690670     1.0     1.0\n"
     ]
    }
   ],
   "source": [
    "for s in [0, 1]:\n",
    "    for l in [0, 1]:\n",
    "        print('s', s, 'label', l)\n",
    "        print(complete_df[(complete_df['sex'] == s) & (complete_df['label'] == l)].describe())"
   ]
  },
  {
   "cell_type": "code",
   "execution_count": 13,
   "metadata": {},
   "outputs": [
    {
     "name": "stdout",
     "output_type": "stream",
     "text": [
      "s 0 label 0\n",
      "                  0            1      sex    label\n",
      "count  10000.000000  6014.000000  10000.0  10000.0\n",
      "mean       5.028427     4.937781      0.0      0.0\n",
      "std        3.027555     2.990918      0.0      0.0\n",
      "min       -7.679162    -6.693075      0.0      0.0\n",
      "25%        2.968444     2.847601      0.0      0.0\n",
      "50%        5.034149     4.901025      0.0      0.0\n",
      "75%        7.082838     6.902566      0.0      0.0\n",
      "max       17.733290    14.880912      0.0      0.0\n",
      "s 0 label 1\n",
      "                 0            1     sex   label\n",
      "count  2500.000000  1486.000000  2500.0  2500.0\n",
      "mean      5.040839    15.011042     0.0     1.0\n",
      "std       2.980293     2.924892     0.0     0.0\n",
      "min      -6.494888     6.262150     0.0     1.0\n",
      "25%       3.019072    12.992444     0.0     1.0\n",
      "50%       5.064649    14.970256     0.0     1.0\n",
      "75%       7.034455    17.075720     0.0     1.0\n",
      "max      14.436139    24.692377     0.0     1.0\n",
      "s 1 label 0\n",
      "                  0            1      sex    label\n",
      "count  10000.000000  8999.000000  10000.0  10000.0\n",
      "mean       0.020660    10.033361      1.0      0.0\n",
      "std        3.004137     3.005329      0.0      0.0\n",
      "min      -11.587590    -2.286750      1.0      0.0\n",
      "25%       -1.992642     8.008537      1.0      0.0\n",
      "50%        0.008592     9.994537      1.0      0.0\n",
      "75%        2.026469    12.035202      1.0      0.0\n",
      "max       10.644610    22.165284      1.0      0.0\n",
      "s 1 label 1\n",
      "                 0            1     sex   label\n",
      "count  2500.000000  2251.000000  2500.0  2500.0\n",
      "mean      9.996915    10.035808     1.0     1.0\n",
      "std       2.979057     2.888134     0.0     0.0\n",
      "min      -2.190398     0.543134     1.0     1.0\n",
      "25%       7.931886     8.031749     1.0     1.0\n",
      "50%      10.038676    10.045742     1.0     1.0\n",
      "75%      11.966776    12.016605     1.0     1.0\n",
      "max      19.730111    19.690670     1.0     1.0\n"
     ]
    }
   ],
   "source": [
    "incomplete_df = train_fd.get_incomplete_df()\n",
    "for s in [0, 1]:\n",
    "    for l in [0, 1]:\n",
    "        print('s', s, 'label', l)\n",
    "        print(incomplete_df[(incomplete_df['sex'] == s) & (incomplete_df['label'] == l)].describe())"
   ]
  },
  {
   "cell_type": "code",
   "execution_count": 14,
   "metadata": {},
   "outputs": [
    {
     "data": {
      "text/plain": [
       "array([3.52341024, 8.79376228])"
      ]
     },
     "execution_count": 14,
     "metadata": {},
     "output_type": "execute_result"
    }
   ],
   "source": [
    "train_fd.imputer.statistics_"
   ]
  },
  {
   "cell_type": "code",
   "execution_count": 15,
   "metadata": {},
   "outputs": [
    {
     "data": {
      "text/plain": [
       "array([3.52341024, 8.79376228])"
      ]
     },
     "execution_count": 15,
     "metadata": {},
     "output_type": "execute_result"
    }
   ],
   "source": [
    "test_fd.imputer.statistics_"
   ]
  },
  {
   "cell_type": "code",
   "execution_count": 16,
   "metadata": {},
   "outputs": [
    {
     "data": {
      "text/plain": [
       "18750"
      ]
     },
     "execution_count": 16,
     "metadata": {},
     "output_type": "execute_result"
    }
   ],
   "source": [
    "train_fd.get_incomplete_df()['1'].count()"
   ]
  },
  {
   "cell_type": "code",
   "execution_count": 17,
   "metadata": {},
   "outputs": [
    {
     "name": "stdout",
     "output_type": "stream",
     "text": [
      "Method\t & \tAC_p\t & \tAC_u\t & \tSR_p\t & \tSR_u\t & \tFPR_p\t & \tFPR_u\n",
      "mean\t & \t96.3\t & \t96.6\t & \t12.5\t & \t12.6\t & \t01.3\t & \t01.5\n",
      "mean\t & \t96.3\t & \t89.7\t & \t12.5\t & \t08.8\t & \t00.9\t & \t03.1\n"
     ]
    }
   ],
   "source": [
    "print_table_row(is_header=True, variable='Method')\n",
    "output = get_performance_summary(baseline_fd, baseline_fd, estimator, get_predictions)\n",
    "output = get_performance_summary(train_fd, train_fd, estimator, get_predictions)"
   ]
  },
  {
   "cell_type": "code",
   "execution_count": 18,
   "metadata": {},
   "outputs": [],
   "source": [
    "pmod, umod, mod, _, _, _ = output"
   ]
  },
  {
   "cell_type": "code",
   "execution_count": 19,
   "metadata": {},
   "outputs": [
    {
     "data": {
      "text/plain": [
       "array([[0.02065958, 9.90927692],\n",
       "       [9.99691537, 9.91210032]])"
      ]
     },
     "execution_count": 19,
     "metadata": {},
     "output_type": "execute_result"
    }
   ],
   "source": [
    "pmod.theta_"
   ]
  },
  {
   "cell_type": "code",
   "execution_count": 20,
   "metadata": {},
   "outputs": [
    {
     "data": {
      "text/plain": [
       "array([[9.02393924, 8.26541501],\n",
       "       [8.87123236, 7.64553229]])"
      ]
     },
     "execution_count": 20,
     "metadata": {},
     "output_type": "execute_result"
    }
   ],
   "source": [
    "pmod.sigma_"
   ]
  },
  {
   "cell_type": "code",
   "execution_count": 21,
   "metadata": {},
   "outputs": [
    {
     "data": {
      "text/plain": [
       "array([[ 5.02842743,  6.47477541],\n",
       "       [ 5.04083892, 12.48931311]])"
      ]
     },
     "execution_count": 21,
     "metadata": {},
     "output_type": "execute_result"
    }
   ],
   "source": [
    "umod.theta_"
   ]
  },
  {
   "cell_type": "code",
   "execution_count": 22,
   "metadata": {},
   "outputs": [
    {
     "data": {
      "text/plain": [
       "array([[ 9.16517299,  8.94325381],\n",
       "       [ 8.87859289, 14.40084233]])"
      ]
     },
     "execution_count": 22,
     "metadata": {},
     "output_type": "execute_result"
    }
   ],
   "source": [
    "umod.sigma_"
   ]
  },
  {
   "cell_type": "code",
   "execution_count": 23,
   "metadata": {},
   "outputs": [
    {
     "data": {
      "text/plain": [
       "array([[ 2.52454351,  8.19202616],\n",
       "       [ 7.51887714, 11.20070672]])"
      ]
     },
     "execution_count": 23,
     "metadata": {},
     "output_type": "execute_result"
    }
   ],
   "source": [
    "mod.theta_"
   ]
  },
  {
   "cell_type": "code",
   "execution_count": 24,
   "metadata": {},
   "outputs": [
    {
     "data": {
      "text/plain": [
       "array([[15.36399082, 11.55328457],\n",
       "       [15.01558608, 12.68369375]])"
      ]
     },
     "execution_count": 24,
     "metadata": {},
     "output_type": "execute_result"
    }
   ],
   "source": [
    "mod.sigma_"
   ]
  }
 ],
 "metadata": {
  "kernelspec": {
   "display_name": "Python 3",
   "language": "python",
   "name": "python3"
  },
  "language_info": {
   "codemirror_mode": {
    "name": "ipython",
    "version": 3
   },
   "file_extension": ".py",
   "mimetype": "text/x-python",
   "name": "python",
   "nbconvert_exporter": "python",
   "pygments_lexer": "ipython3",
   "version": "3.8.0"
  }
 },
 "nbformat": 4,
 "nbformat_minor": 1
}
