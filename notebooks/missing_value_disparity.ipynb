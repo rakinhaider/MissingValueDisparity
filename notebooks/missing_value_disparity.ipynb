{
 "cells": [
  {
   "cell_type": "code",
   "execution_count": 1,
   "metadata": {
    "pycharm": {
     "is_executing": true
    }
   },
   "outputs": [],
   "source": [
    "import sys\n",
    "sys.path.insert(0,'../')"
   ]
  },
  {
   "cell_type": "code",
   "execution_count": 2,
   "metadata": {
    "pycharm": {
     "is_executing": true
    }
   },
   "outputs": [],
   "source": [
    "import pandas as pd\n",
    "import numpy as np\n",
    "from utils import *\n",
    "from datasets.fair_dataset import FairDataset\n",
    "from IPython.display import display, Math"
   ]
  },
  {
   "cell_type": "code",
   "execution_count": 3,
   "metadata": {
    "pycharm": {
     "is_executing": true
    }
   },
   "outputs": [],
   "source": [
    "class_shift = 10\n",
    "\n",
    "dist = {'mus': {1: np.array([10, 13]), \n",
    "                0: np.array([10 - class_shift, 13 - class_shift])},\n",
    "        'sigmas': [3, 3]\n",
    "       }"
   ]
  },
  {
   "cell_type": "code",
   "execution_count": 4,
   "metadata": {
    "pycharm": {
     "is_executing": true
    }
   },
   "outputs": [],
   "source": [
    "group_shift = 0\n",
    "dist = {'mus':{'x1': {0: [0, 0 + group_shift], 1:[10, 10 + group_shift]},\n",
    "               'z': [0, 2]},\n",
    "        'sigmas': {'x1':{0: [5, 5], 1:[5, 5]},\n",
    "                   'z': [1, 1]}\n",
    "        }"
   ]
  },
  {
   "cell_type": "code",
   "execution_count": 5,
   "metadata": {
    "pycharm": {
     "is_executing": true
    }
   },
   "outputs": [
    {
     "data": {
      "text/plain": [
       "{'protected_attribute_names': ['sex'],\n",
       " 'privileged_group': 'Male',\n",
       " 'favorable_class': 1,\n",
       " 'classes': [0, 1],\n",
       " 'sensitive_groups': ['Female', 'Male'],\n",
       " 'group_shift': 0,\n",
       " 'alpha': 0.5,\n",
       " 'beta': 1,\n",
       " 'keep_im_prot': False,\n",
       " 'priv_ic_prob': 0.1,\n",
       " 'unpriv_ic_prob': 0.4,\n",
       " 'dist': {'mus': {'x1': {0: [0, 0], 1: [10, 10]}, 'z': [0, 2]},\n",
       "  'sigmas': {'x1': {0: [5, 5], 1: [5, 5]}, 'z': [1, 1]}}}"
      ]
     },
     "execution_count": 5,
     "metadata": {},
     "output_type": "execute_result"
    }
   ],
   "source": [
    "protected = [\"sex\"]\n",
    "privileged_classes = [['Male']]\n",
    "kwargs = {\n",
    "    'protected_attribute_names': ['sex'],\n",
    "    'privileged_group': 'Male',\n",
    "    'favorable_class': 1,\n",
    "    'classes': [0, 1],\n",
    "    'sensitive_groups': ['Female', 'Male'],\n",
    "    'group_shift': 0,\n",
    "    'alpha': 0.5, 'beta': 1, 'keep_im_prot': False,\n",
    "    'priv_ic_prob': 0.1, 'unpriv_ic_prob': 0.4,\n",
    "    'dist': dist\n",
    "}\n",
    "kwargs"
   ]
  },
  {
   "cell_type": "code",
   "execution_count": 6,
   "metadata": {
    "pycharm": {
     "is_executing": true
    }
   },
   "outputs": [],
   "source": [
    "estimator = get_estimator('nb', False)\n",
    "keep_prot = False"
   ]
  },
  {
   "cell_type": "code",
   "execution_count": 7,
   "metadata": {
    "pycharm": {
     "is_executing": true
    }
   },
   "outputs": [],
   "source": [
    "def get_performance_summary(train_fd, test_fd, estimator, prediction_func):\n",
    "    pmod, pmod_results = get_groupwise_performance(estimator, train_fd, test_fd, privileged=True)\n",
    "    umod, umod_results = get_groupwise_performance(estimator, train_fd, test_fd, privileged=False)\n",
    "    mod, mod_results = get_groupwise_performance(estimator, train_fd, test_fd, privileged=None)\n",
    "    print(get_table_row(is_header=False, var_value='mean', p_perf=mod_results,\n",
    "                        u_perf=mod_results, m_perf=mod_results, variable='method'))\n",
    "    return pmod, umod, mod, pmod_results, umod_results, mod_results"
   ]
  },
  {
   "cell_type": "code",
   "execution_count": 8,
   "metadata": {
    "pycharm": {
     "is_executing": true
    }
   },
   "outputs": [],
   "source": [
    "import matplotlib.pyplot as plt\n",
    "import numpy as np\n",
    "import scipy.stats as stats\n",
    "\n",
    "def plot_normal(mu, sigma, ax, label=None):\n",
    "    x = np.linspace(mu - 3*sigma, mu + 3*sigma, 100)\n",
    "    ax.plot(x, stats.norm.pdf(x, mu, sigma), label=label)\n",
    "    \n",
    "def get_range(dist_table, i, j):\n",
    "    mus = [l[j] for l in dist_table[:, :, 0].flatten()]\n",
    "    sigmas = [l[j] for l in dist_table[:, :, 1].flatten()]\n",
    "    vals = [mu - 3*sigmas[i] for i, mu in enumerate(mus)] \n",
    "    vals += [mu + 3*sigmas[i] for i, mu in enumerate(mus)]\n",
    "    left = int(round(min(vals), 0))\n",
    "    right = int(round(max(vals), 0))    \n",
    "    return left, right\n",
    "    \n",
    "def plot_dist_table(dist_table, **kwargs):    \n",
    "    f, ax = plt.subplots(2, 2)\n",
    "    print(dist_table)\n",
    "    # i controls sensitive attribute\n",
    "    for i in range(2):\n",
    "        # i controls class\n",
    "        for j in range(2):\n",
    "            mus = dist_table[i][j][0]\n",
    "            sigmas = dist_table[i][j][1]\n",
    "            plot_normal(float(mus[0]), float(sigmas[0]), ax[i][0])\n",
    "            plot_normal(float(mus[1]), float(sigmas[1]), ax[i][1])\n",
    "\n",
    "    for i in range(2):\n",
    "        for j in range(2):\n",
    "            left, right = get_range(dist_table, j, i)\n",
    "            ax[j][i].set_xlim(left, right)\n",
    "            ax[j][i].set_xticks([i for i in range(left, right+1) if i%5 == 0])\n",
    "            ax[j][i].set_ylim(-0.01, 0.15)\n",
    "            \n",
    "    ax[0][0].set_title('Test Scores')\n",
    "    ax[0][1].set_title('GPA')\n",
    "\n",
    "    ax[1][0].set_ylabel('Privileged')\n",
    "    ax[0][0].set_ylabel('Unprivileged')\n",
    "\n",
    "    plt.subplots_adjust(wspace=0.25)\n",
    "\n",
    "def plot_group_config(group_config):\n",
    "    dist_table = np.reshape(group_config, (2,2,4))\n",
    "    plot_dist_table(dist_table)"
   ]
  },
  {
   "cell_type": "markdown",
   "metadata": {},
   "source": [
    "Test plot_dist_table()   "
   ]
  },
  {
   "cell_type": "code",
   "execution_count": 9,
   "metadata": {
    "pycharm": {
     "is_executing": true
    }
   },
   "outputs": [
    {
     "name": "stderr",
     "output_type": "stream",
     "text": [
      "Creating an ndarray from ragged nested sequences (which is a list-or-tuple of lists-or-tuples-or ndarrays with different lengths or shapes) is deprecated. If you meant to do this, you must specify 'dtype=object' when creating the ndarray.\n"
     ]
    },
    {
     "name": "stdout",
     "output_type": "stream",
     "text": [
      "[[[list([5, 0]) list([3, 3]) 0 0]\n",
      "  [list([5, 10]) list([3, 3]) 0 1]]\n",
      "\n",
      " [[list([0, 5]) list([3, 3]) 1 0]\n",
      "  [list([10, 5]) list([3, 3]) 1 1]]]\n"
     ]
    },
    {
     "data": {
      "image/png": "[encoded data removed]",
      "text/plain": [
       "<Figure size 640x480 with 4 Axes>"
      ]
     },
     "metadata": {},
     "output_type": "display_data"
    }
   ],
   "source": [
    "group_config = [\n",
    "    ([5, 0], [3, 3], 0, 0),\n",
    "    ([5, 10], [3, 3], 0, 1),\n",
    "    ([0, 5], [3, 3], 1, 0),\n",
    "    ([10, 5], [3, 3], 1, 1)\n",
    "]\n",
    "plot_group_config(group_config)"
   ]
  },
  {
   "cell_type": "code",
   "execution_count": 10,
   "metadata": {
    "pycharm": {
     "is_executing": true
    },
    "scrolled": true
   },
   "outputs": [
    {
     "name": "stderr",
     "output_type": "stream",
     "text": [
      "Changing the sparsity structure of a csr_matrix is expensive. lil_matrix is more efficient.\n",
      "Changing the sparsity structure of a csr_matrix is expensive. lil_matrix is more efficient.\n",
      "Changing the sparsity structure of a csr_matrix is expensive. lil_matrix is more efficient.\n",
      "Changing the sparsity structure of a csr_matrix is expensive. lil_matrix is more efficient.\n",
      "Changing the sparsity structure of a csr_matrix is expensive. lil_matrix is more efficient.\n",
      "Changing the sparsity structure of a csr_matrix is expensive. lil_matrix is more efficient.\n",
      "Changing the sparsity structure of a csr_matrix is expensive. lil_matrix is more efficient.\n",
      "Changing the sparsity structure of a csr_matrix is expensive. lil_matrix is more efficient.\n"
     ]
    }
   ],
   "source": [
    "train_fd, test_fd = get_synthetic_train_test_split(\n",
    "    type='corr', n_samples=10000, n_features=2,\n",
    "    train_random_state=47, test_random_state=41,\n",
    "    method='simple_imputer.mean', test_method='train',\n",
    "    **kwargs)"
   ]
  },
  {
   "cell_type": "code",
   "execution_count": 11,
   "metadata": {
    "pycharm": {
     "is_executing": true
    }
   },
   "outputs": [],
   "source": [
    "complete_df = train_fd.complete_df.astype(float)"
   ]
  },
  {
   "cell_type": "code",
   "execution_count": 12,
   "metadata": {
    "pycharm": {
     "is_executing": true
    }
   },
   "outputs": [
    {
     "name": "stdout",
     "output_type": "stream",
     "text": [
      "                 0            1     sex   label\n",
      "count  5000.000000  5000.000000  5000.0  5000.0\n",
      "mean      0.033902    -0.004420     0.0     0.0\n",
      "std       5.016910     5.167750     0.0     0.0\n",
      "min     -16.367642   -20.253000     0.0     0.0\n",
      "25%      -3.339430    -3.496689     0.0     0.0\n",
      "50%       0.065087     0.015036     0.0     0.0\n",
      "75%       3.407554     3.480062     0.0     0.0\n",
      "max      19.650068    18.199009     0.0     0.0\n",
      "                 0            1     sex   label\n",
      "count  5000.000000  5000.000000  5000.0  5000.0\n",
      "mean     10.060856    13.856328     0.0     1.0\n",
      "std       5.075241     5.210401     0.0     0.0\n",
      "min     -11.131936    -5.121390     0.0     1.0\n",
      "25%       6.585877    10.198632     0.0     1.0\n",
      "50%      10.041481    13.731334     0.0     1.0\n",
      "75%      13.538274    17.289755     0.0     1.0\n",
      "max      31.222150    31.680379     0.0     1.0\n",
      "                 0            1     sex   label\n",
      "count  5000.000000  5000.000000  5000.0  5000.0\n",
      "mean      0.061668     0.023167     1.0     0.0\n",
      "std       5.019697     5.156964     0.0     0.0\n",
      "min     -19.312649   -21.281275     1.0     0.0\n",
      "25%      -3.332325    -3.456748     1.0     0.0\n",
      "50%       0.020458    -0.099679     1.0     0.0\n",
      "75%       3.382128     3.481523     1.0     0.0\n",
      "max      17.741016    19.639542     1.0     0.0\n",
      "                 0            1     sex   label\n",
      "count  5000.000000  5000.000000  5000.0  5000.0\n",
      "mean     10.007197    14.089038     1.0     1.0\n",
      "std       4.994415     5.244565     0.0     0.0\n",
      "min      -7.217029    -3.699169     1.0     1.0\n",
      "25%       6.680621    10.558666     1.0     1.0\n",
      "50%      10.009916    14.083515     1.0     1.0\n",
      "75%      13.376182    17.557531     1.0     1.0\n",
      "max      26.001294    35.070891     1.0     1.0\n",
      "                  0             1           sex    label\n",
      "count  10000.000000  10000.000000  10000.000000  10000.0\n",
      "mean       0.047785      0.009374      0.500000      0.0\n",
      "std        5.018072      5.162120      0.500025      0.0\n",
      "min      -19.312649    -21.281275      0.000000      0.0\n",
      "25%       -3.335253     -3.471526      0.000000      0.0\n",
      "50%        0.050788     -0.050645      0.500000      0.0\n",
      "75%        3.394587      3.481523      1.000000      0.0\n",
      "max       19.650068     19.639542      1.000000      0.0\n",
      "                  0             1           sex    label\n",
      "count  10000.000000  10000.000000  10000.000000  10000.0\n",
      "mean      10.034026     13.972683      0.500000      1.0\n",
      "std        5.034810      5.228545      0.500025      0.0\n",
      "min      -11.131936     -5.121390      0.000000      1.0\n",
      "25%        6.629115     10.394120      0.000000      1.0\n",
      "50%       10.025666     13.913005      0.500000      1.0\n",
      "75%       13.474944     17.442407      1.000000      1.0\n",
      "max       31.222150     35.070891      1.000000      1.0\n"
     ]
    }
   ],
   "source": [
    "for s in [0, 1]:\n",
    "    for y in [0, 1]:\n",
    "        sub_df = complete_df[(complete_df['sex'] == s) & (complete_df['label'] == y)]\n",
    "        print(sub_df.describe())\n",
    "        \n",
    "for y in [0, 1]:\n",
    "    sub_df = complete_df[(complete_df['label'] == y)]\n",
    "    print(sub_df.describe())"
   ]
  },
  {
   "cell_type": "code",
   "execution_count": 13,
   "metadata": {
    "pycharm": {
     "is_executing": true
    }
   },
   "outputs": [
    {
     "data": {
      "text/plain": [
       "[(array([0, 0]), array([5.        , 5.19615242]), 0, 0),\n",
       " (array([10, 14]), array([5.        , 5.19615242]), 0, 1),\n",
       " (array([0, 0]), array([5.        , 5.19615242]), 1, 0),\n",
       " (array([10, 14]), array([5.        , 5.19615242]), 1, 1)]"
      ]
     },
     "execution_count": 13,
     "metadata": {},
     "output_type": "execute_result"
    }
   ],
   "source": [
    "train_fd.group_configs"
   ]
  },
  {
   "cell_type": "code",
   "execution_count": 14,
   "metadata": {
    "pycharm": {
     "is_executing": true
    }
   },
   "outputs": [
    {
     "name": "stderr",
     "output_type": "stream",
     "text": [
      "Creating an ndarray from ragged nested sequences (which is a list-or-tuple of lists-or-tuples-or ndarrays with different lengths or shapes) is deprecated. If you meant to do this, you must specify 'dtype=object' when creating the ndarray.\n"
     ]
    },
    {
     "data": {
      "text/plain": [
       "array([[[array([0, 0]), array([5.        , 5.19615242]), 0, 0],\n",
       "        [array([10, 14]), array([5.        , 5.19615242]), 0, 1]],\n",
       "\n",
       "       [[array([0, 0]), array([5.        , 5.19615242]), 1, 0],\n",
       "        [array([10, 14]), array([5.        , 5.19615242]), 1, 1]]],\n",
       "      dtype=object)"
      ]
     },
     "execution_count": 14,
     "metadata": {},
     "output_type": "execute_result"
    }
   ],
   "source": [
    "np.reshape(train_fd.group_configs, (2,2,4))"
   ]
  },
  {
   "cell_type": "code",
   "execution_count": 15,
   "metadata": {
    "pycharm": {
     "is_executing": true
    }
   },
   "outputs": [
    {
     "name": "stdout",
     "output_type": "stream",
     "text": [
      "[[[array([0, 0]) array([5.        , 5.19615242]) 0 0]\n",
      "  [array([10, 14]) array([5.        , 5.19615242]) 0 1]]\n",
      "\n",
      " [[array([0, 0]) array([5.        , 5.19615242]) 1 0]\n",
      "  [array([10, 14]) array([5.        , 5.19615242]) 1 1]]]\n"
     ]
    },
    {
     "data": {
      "image/png": "[encoded data removed]",
      "text/plain": [
       "<Figure size 640x480 with 4 Axes>"
      ]
     },
     "metadata": {},
     "output_type": "display_data"
    }
   ],
   "source": [
    "plot_group_config(train_fd.group_configs)"
   ]
  },
  {
   "cell_type": "code",
   "execution_count": 16,
   "metadata": {
    "pycharm": {
     "is_executing": true
    }
   },
   "outputs": [
    {
     "data": {
      "text/plain": [
       "array([[4.77853114e-02, 9.37362241e-03],\n",
       "       [1.00340264e+01, 1.39726829e+01]])"
      ]
     },
     "execution_count": 16,
     "metadata": {},
     "output_type": "execute_result"
    }
   ],
   "source": [
    "from sklearn.naive_bayes import GaussianNB\n",
    "model = GaussianNB()\n",
    "model.fit(complete_df[complete_df.columns[:-2]], complete_df[complete_df.columns[-1]])\n",
    "model.theta_"
   ]
  },
  {
   "cell_type": "code",
   "execution_count": 17,
   "metadata": {
    "pycharm": {
     "is_executing": true
    }
   },
   "outputs": [
    {
     "data": {
      "text/plain": [
       "array([0., 1.])"
      ]
     },
     "execution_count": 17,
     "metadata": {},
     "output_type": "execute_result"
    }
   ],
   "source": [
    "model.classes_"
   ]
  },
  {
   "cell_type": "code",
   "execution_count": 18,
   "metadata": {
    "pycharm": {
     "is_executing": true
    }
   },
   "outputs": [
    {
     "data": {
      "text/plain": [
       "array([[25.17852401, 26.64481998],\n",
       "       [25.34677691, 27.33494531]])"
      ]
     },
     "execution_count": 18,
     "metadata": {},
     "output_type": "execute_result"
    }
   ],
   "source": [
    "model.var_"
   ]
  },
  {
   "cell_type": "code",
   "execution_count": 19,
   "metadata": {
    "pycharm": {
     "is_executing": true
    }
   },
   "outputs": [],
   "source": [
    "def get_df_group_config(df, precision=3):\n",
    "    df_gc = []\n",
    "    \n",
    "    for s in [0, 1]:\n",
    "        for l in [0, 1]:\n",
    "            desc = df[((df['sex'] == s) & (df['label'] == l))].describe()\n",
    "            mus = desc.loc['mean']\n",
    "            sigmas = desc.loc['std']\n",
    "            df_gc.append((\n",
    "                [round(mus[0], precision), round(mus[1], precision)], \n",
    "                [round(sigmas[0], precision), round(sigmas[1], precision)], s, l)\n",
    "            ) \n",
    "    print(*df_gc, sep='\\n')\n",
    "    return df_gc"
   ]
  },
  {
   "cell_type": "code",
   "execution_count": 20,
   "metadata": {
    "pycharm": {
     "is_executing": true
    },
    "scrolled": true
   },
   "outputs": [
    {
     "name": "stdout",
     "output_type": "stream",
     "text": [
      "([0.034, -0.004], [5.017, 5.168], 0, 0)\n",
      "([10.061, 13.856], [5.075, 5.21], 0, 1)\n",
      "([0.062, 0.023], [5.02, 5.157], 1, 0)\n",
      "([10.007, 14.089], [4.994, 5.245], 1, 1)\n",
      "[[[list([0.034, -0.004]) list([5.017, 5.168]) 0 0]\n",
      "  [list([10.061, 13.856]) list([5.075, 5.21]) 0 1]]\n",
      "\n",
      " [[list([0.062, 0.023]) list([5.02, 5.157]) 1 0]\n",
      "  [list([10.007, 14.089]) list([4.994, 5.245]) 1 1]]]\n"
     ]
    },
    {
     "name": "stderr",
     "output_type": "stream",
     "text": [
      "Creating an ndarray from ragged nested sequences (which is a list-or-tuple of lists-or-tuples-or ndarrays with different lengths or shapes) is deprecated. If you meant to do this, you must specify 'dtype=object' when creating the ndarray.\n"
     ]
    },
    {
     "data": {
      "image/png": "[encoded data removed]",
      "text/plain": [
       "<Figure size 640x480 with 4 Axes>"
      ]
     },
     "metadata": {},
     "output_type": "display_data"
    }
   ],
   "source": [
    "group_config = get_df_group_config(complete_df)\n",
    "plot_group_config(group_config)"
   ]
  },
  {
   "cell_type": "code",
   "execution_count": 21,
   "metadata": {
    "pycharm": {
     "is_executing": true
    }
   },
   "outputs": [
    {
     "name": "stdout",
     "output_type": "stream",
     "text": [
      "([0.034, -0.008], [5.017, 5.15], 0, 0)\n",
      "([10.061, 13.81], [5.075, 5.168], 0, 1)\n",
      "([0.062, 0.005], [5.02, 5.173], 1, 0)\n",
      "([10.007, 14.047], [4.994, 5.255], 1, 1)\n",
      "[[[list([0.034, -0.008]) list([5.017, 5.15]) 0 0]\n",
      "  [list([10.061, 13.81]) list([5.075, 5.168]) 0 1]]\n",
      "\n",
      " [[list([0.062, 0.005]) list([5.02, 5.173]) 1 0]\n",
      "  [list([10.007, 14.047]) list([4.994, 5.255]) 1 1]]]\n"
     ]
    },
    {
     "name": "stderr",
     "output_type": "stream",
     "text": [
      "Creating an ndarray from ragged nested sequences (which is a list-or-tuple of lists-or-tuples-or ndarrays with different lengths or shapes) is deprecated. If you meant to do this, you must specify 'dtype=object' when creating the ndarray.\n"
     ]
    },
    {
     "data": {
      "image/png": "[encoded data removed]",
      "text/plain": [
       "<Figure size 640x480 with 4 Axes>"
      ]
     },
     "metadata": {},
     "output_type": "display_data"
    }
   ],
   "source": [
    "incomplete_df = train_fd.get_incomplete_df()\n",
    "group_config = get_df_group_config(incomplete_df)\n",
    "plot_group_config(group_config)"
   ]
  },
  {
   "cell_type": "code",
   "execution_count": 22,
   "metadata": {
    "pycharm": {
     "is_executing": true
    }
   },
   "outputs": [
    {
     "data": {
      "text/html": [
       "<div>\n",
       "<style scoped>\n",
       "    .dataframe tbody tr th:only-of-type {\n",
       "        vertical-align: middle;\n",
       "    }\n",
       "\n",
       "    .dataframe tbody tr th {\n",
       "        vertical-align: top;\n",
       "    }\n",
       "\n",
       "    .dataframe thead th {\n",
       "        text-align: right;\n",
       "    }\n",
       "</style>\n",
       "<table border=\"1\" class=\"dataframe\">\n",
       "  <thead>\n",
       "    <tr style=\"text-align: right;\">\n",
       "      <th></th>\n",
       "      <th>0</th>\n",
       "      <th>1</th>\n",
       "      <th>sex</th>\n",
       "      <th>label</th>\n",
       "    </tr>\n",
       "  </thead>\n",
       "  <tbody>\n",
       "    <tr>\n",
       "      <th>count</th>\n",
       "      <td>20000.000000</td>\n",
       "      <td>15000.000000</td>\n",
       "      <td>20000.000000</td>\n",
       "      <td>20000.000000</td>\n",
       "    </tr>\n",
       "    <tr>\n",
       "      <th>mean</th>\n",
       "      <td>5.040906</td>\n",
       "      <td>6.976180</td>\n",
       "      <td>0.500000</td>\n",
       "      <td>0.500000</td>\n",
       "    </tr>\n",
       "    <tr>\n",
       "      <th>std</th>\n",
       "      <td>7.084943</td>\n",
       "      <td>8.696831</td>\n",
       "      <td>0.500013</td>\n",
       "      <td>0.500013</td>\n",
       "    </tr>\n",
       "    <tr>\n",
       "      <th>min</th>\n",
       "      <td>-19.312649</td>\n",
       "      <td>-21.281275</td>\n",
       "      <td>0.000000</td>\n",
       "      <td>0.000000</td>\n",
       "    </tr>\n",
       "    <tr>\n",
       "      <th>25%</th>\n",
       "      <td>-0.209328</td>\n",
       "      <td>-0.120766</td>\n",
       "      <td>0.000000</td>\n",
       "      <td>0.000000</td>\n",
       "    </tr>\n",
       "    <tr>\n",
       "      <th>50%</th>\n",
       "      <td>5.040148</td>\n",
       "      <td>6.949725</td>\n",
       "      <td>0.500000</td>\n",
       "      <td>0.500000</td>\n",
       "    </tr>\n",
       "    <tr>\n",
       "      <th>75%</th>\n",
       "      <td>10.306609</td>\n",
       "      <td>13.938008</td>\n",
       "      <td>1.000000</td>\n",
       "      <td>1.000000</td>\n",
       "    </tr>\n",
       "    <tr>\n",
       "      <th>max</th>\n",
       "      <td>31.222150</td>\n",
       "      <td>35.070891</td>\n",
       "      <td>1.000000</td>\n",
       "      <td>1.000000</td>\n",
       "    </tr>\n",
       "  </tbody>\n",
       "</table>\n",
       "</div>"
      ],
      "text/plain": [
       "                  0             1           sex         label\n",
       "count  20000.000000  15000.000000  20000.000000  20000.000000\n",
       "mean       5.040906      6.976180      0.500000      0.500000\n",
       "std        7.084943      8.696831      0.500013      0.500013\n",
       "min      -19.312649    -21.281275      0.000000      0.000000\n",
       "25%       -0.209328     -0.120766      0.000000      0.000000\n",
       "50%        5.040148      6.949725      0.500000      0.500000\n",
       "75%       10.306609     13.938008      1.000000      1.000000\n",
       "max       31.222150     35.070891      1.000000      1.000000"
      ]
     },
     "execution_count": 22,
     "metadata": {},
     "output_type": "execute_result"
    }
   ],
   "source": [
    "incomplete_df.describe()"
   ]
  },
  {
   "cell_type": "code",
   "execution_count": 23,
   "metadata": {
    "pycharm": {
     "is_executing": true
    }
   },
   "outputs": [
    {
     "name": "stdout",
     "output_type": "stream",
     "text": [
      "([0.034, 2.786], [5.017, 5.255], 0, 0)\n",
      "([10.061, 11.077], [5.075, 5.219], 0, 1)\n",
      "([0.062, 0.702], [5.02, 5.335], 1, 0)\n",
      "([10.007, 13.34], [4.994, 5.418], 1, 1)\n",
      "[[[list([0.034, 2.786]) list([5.017, 5.255]) 0 0]\n",
      "  [list([10.061, 11.077]) list([5.075, 5.219]) 0 1]]\n",
      "\n",
      " [[list([0.062, 0.702]) list([5.02, 5.335]) 1 0]\n",
      "  [list([10.007, 13.34]) list([4.994, 5.418]) 1 1]]]\n",
      "                  0             1           sex         label\n",
      "count  20000.000000  20000.000000  20000.000000  20000.000000\n",
      "mean       5.040906      6.991028      0.500000      0.500000\n",
      "std        7.084943      8.702711      0.500013      0.500013\n",
      "min      -19.312649    -21.281275      0.000000      0.000000\n",
      "25%       -0.209328     -0.084612      0.000000      0.000000\n",
      "50%        5.040148      7.001429      0.500000      0.500000\n",
      "75%       10.306609     13.963543      1.000000      1.000000\n",
      "max       31.222150     35.070891      1.000000      1.000000\n",
      "                  0             1           sex         label\n",
      "count  20000.000000  20000.000000  20000.000000  20000.000000\n",
      "mean       5.040906      6.976180      0.500000      0.500000\n",
      "std        7.084943      7.531614      0.500013      0.500013\n",
      "min      -19.312649    -21.281275      0.000000      0.000000\n",
      "25%       -0.209328      2.098501      0.000000      0.000000\n",
      "50%        5.040148      6.976180      0.500000      0.500000\n",
      "75%       10.306609     11.874361      1.000000      1.000000\n",
      "max       31.222150     35.070891      1.000000      1.000000\n"
     ]
    },
    {
     "name": "stderr",
     "output_type": "stream",
     "text": [
      "Creating an ndarray from ragged nested sequences (which is a list-or-tuple of lists-or-tuples-or ndarrays with different lengths or shapes) is deprecated. If you meant to do this, you must specify 'dtype=object' when creating the ndarray.\n"
     ]
    },
    {
     "data": {
      "image/png": "[encoded data removed]",
      "text/plain": [
       "<Figure size 640x480 with 4 Axes>"
      ]
     },
     "metadata": {},
     "output_type": "display_data"
    }
   ],
   "source": [
    "imputed_df = train_fd.imputed_df\n",
    "group_config = get_df_group_config(imputed_df)\n",
    "plot_group_config(group_config)\n",
    "print(complete_df.describe())\n",
    "print(imputed_df.describe())"
   ]
  },
  {
   "cell_type": "code",
   "execution_count": 24,
   "metadata": {
    "pycharm": {
     "is_executing": true
    }
   },
   "outputs": [
    {
     "name": "stdout",
     "output_type": "stream",
     "text": [
      "([0.034, 2.786], [5.017, 5.255], 0, 0)\n",
      "([10.061, 11.077], [5.075, 5.219], 0, 1)\n",
      "([0.062, 0.702], [5.02, 5.335], 1, 0)\n",
      "([10.007, 13.34], [4.994, 5.418], 1, 1)\n",
      "([0.034, -0.004], [5.017, 5.168], 0, 0)\n",
      "([10.061, 13.856], [5.075, 5.21], 0, 1)\n",
      "([0.062, 0.023], [5.02, 5.157], 1, 0)\n",
      "([10.007, 14.089], [4.994, 5.245], 1, 1)\n"
     ]
    },
    {
     "data": {
      "text/plain": [
       "[([0.034, -0.004], [5.017, 5.168], 0, 0),\n",
       " ([10.061, 13.856], [5.075, 5.21], 0, 1),\n",
       " ([0.062, 0.023], [5.02, 5.157], 1, 0),\n",
       " ([10.007, 14.089], [4.994, 5.245], 1, 1)]"
      ]
     },
     "execution_count": 24,
     "metadata": {},
     "output_type": "execute_result"
    }
   ],
   "source": [
    "get_df_group_config(imputed_df)\n",
    "get_df_group_config(complete_df)"
   ]
  },
  {
   "cell_type": "code",
   "execution_count": 25,
   "metadata": {
    "pycharm": {
     "is_executing": true
    }
   },
   "outputs": [
    {
     "data": {
      "text/html": [
       "<div>\n",
       "<style scoped>\n",
       "    .dataframe tbody tr th:only-of-type {\n",
       "        vertical-align: middle;\n",
       "    }\n",
       "\n",
       "    .dataframe tbody tr th {\n",
       "        vertical-align: top;\n",
       "    }\n",
       "\n",
       "    .dataframe thead th {\n",
       "        text-align: right;\n",
       "    }\n",
       "</style>\n",
       "<table border=\"1\" class=\"dataframe\">\n",
       "  <thead>\n",
       "    <tr style=\"text-align: right;\">\n",
       "      <th></th>\n",
       "      <th>0</th>\n",
       "      <th>1</th>\n",
       "      <th>sex</th>\n",
       "      <th>label</th>\n",
       "    </tr>\n",
       "  </thead>\n",
       "  <tbody>\n",
       "    <tr>\n",
       "      <th>0</th>\n",
       "      <td>1.000000</td>\n",
       "      <td>0.565788</td>\n",
       "      <td>NaN</td>\n",
       "      <td>0.704841</td>\n",
       "    </tr>\n",
       "    <tr>\n",
       "      <th>1</th>\n",
       "      <td>0.565788</td>\n",
       "      <td>1.000000</td>\n",
       "      <td>NaN</td>\n",
       "      <td>0.800509</td>\n",
       "    </tr>\n",
       "    <tr>\n",
       "      <th>sex</th>\n",
       "      <td>NaN</td>\n",
       "      <td>NaN</td>\n",
       "      <td>NaN</td>\n",
       "      <td>NaN</td>\n",
       "    </tr>\n",
       "    <tr>\n",
       "      <th>label</th>\n",
       "      <td>0.704841</td>\n",
       "      <td>0.800509</td>\n",
       "      <td>NaN</td>\n",
       "      <td>1.000000</td>\n",
       "    </tr>\n",
       "  </tbody>\n",
       "</table>\n",
       "</div>"
      ],
      "text/plain": [
       "              0         1  sex     label\n",
       "0      1.000000  0.565788  NaN  0.704841\n",
       "1      0.565788  1.000000  NaN  0.800509\n",
       "sex         NaN       NaN  NaN       NaN\n",
       "label  0.704841  0.800509  NaN  1.000000"
      ]
     },
     "execution_count": 25,
     "metadata": {},
     "output_type": "execute_result"
    }
   ],
   "source": [
    "complete_df[complete_df['sex'] == 0].corr()"
   ]
  },
  {
   "cell_type": "code",
   "execution_count": 26,
   "metadata": {
    "pycharm": {
     "is_executing": true
    }
   },
   "outputs": [
    {
     "data": {
      "text/html": [
       "<div>\n",
       "<style scoped>\n",
       "    .dataframe tbody tr th:only-of-type {\n",
       "        vertical-align: middle;\n",
       "    }\n",
       "\n",
       "    .dataframe tbody tr th {\n",
       "        vertical-align: top;\n",
       "    }\n",
       "\n",
       "    .dataframe thead th {\n",
       "        text-align: right;\n",
       "    }\n",
       "</style>\n",
       "<table border=\"1\" class=\"dataframe\">\n",
       "  <thead>\n",
       "    <tr style=\"text-align: right;\">\n",
       "      <th></th>\n",
       "      <th>0</th>\n",
       "      <th>1</th>\n",
       "      <th>sex</th>\n",
       "      <th>label</th>\n",
       "    </tr>\n",
       "  </thead>\n",
       "  <tbody>\n",
       "    <tr>\n",
       "      <th>0</th>\n",
       "      <td>1.000000</td>\n",
       "      <td>0.559204</td>\n",
       "      <td>NaN</td>\n",
       "      <td>0.704707</td>\n",
       "    </tr>\n",
       "    <tr>\n",
       "      <th>1</th>\n",
       "      <td>0.559204</td>\n",
       "      <td>1.000000</td>\n",
       "      <td>NaN</td>\n",
       "      <td>0.804057</td>\n",
       "    </tr>\n",
       "    <tr>\n",
       "      <th>sex</th>\n",
       "      <td>NaN</td>\n",
       "      <td>NaN</td>\n",
       "      <td>NaN</td>\n",
       "      <td>NaN</td>\n",
       "    </tr>\n",
       "    <tr>\n",
       "      <th>label</th>\n",
       "      <td>0.704707</td>\n",
       "      <td>0.804057</td>\n",
       "      <td>NaN</td>\n",
       "      <td>1.000000</td>\n",
       "    </tr>\n",
       "  </tbody>\n",
       "</table>\n",
       "</div>"
      ],
      "text/plain": [
       "              0         1  sex     label\n",
       "0      1.000000  0.559204  NaN  0.704707\n",
       "1      0.559204  1.000000  NaN  0.804057\n",
       "sex         NaN       NaN  NaN       NaN\n",
       "label  0.704707  0.804057  NaN  1.000000"
      ]
     },
     "execution_count": 26,
     "metadata": {},
     "output_type": "execute_result"
    }
   ],
   "source": [
    "complete_df[complete_df['sex'] == 1].corr()"
   ]
  },
  {
   "cell_type": "code",
   "execution_count": 27,
   "metadata": {
    "pycharm": {
     "is_executing": true
    }
   },
   "outputs": [
    {
     "data": {
      "text/html": [
       "<div>\n",
       "<style scoped>\n",
       "    .dataframe tbody tr th:only-of-type {\n",
       "        vertical-align: middle;\n",
       "    }\n",
       "\n",
       "    .dataframe tbody tr th {\n",
       "        vertical-align: top;\n",
       "    }\n",
       "\n",
       "    .dataframe thead th {\n",
       "        text-align: right;\n",
       "    }\n",
       "</style>\n",
       "<table border=\"1\" class=\"dataframe\">\n",
       "  <thead>\n",
       "    <tr style=\"text-align: right;\">\n",
       "      <th></th>\n",
       "      <th>0</th>\n",
       "      <th>1</th>\n",
       "      <th>sex</th>\n",
       "      <th>label</th>\n",
       "    </tr>\n",
       "  </thead>\n",
       "  <tbody>\n",
       "    <tr>\n",
       "      <th>0</th>\n",
       "      <td>1.000000</td>\n",
       "      <td>0.437656</td>\n",
       "      <td>NaN</td>\n",
       "      <td>0.704841</td>\n",
       "    </tr>\n",
       "    <tr>\n",
       "      <th>1</th>\n",
       "      <td>0.437656</td>\n",
       "      <td>1.000000</td>\n",
       "      <td>NaN</td>\n",
       "      <td>0.620702</td>\n",
       "    </tr>\n",
       "    <tr>\n",
       "      <th>sex</th>\n",
       "      <td>NaN</td>\n",
       "      <td>NaN</td>\n",
       "      <td>NaN</td>\n",
       "      <td>NaN</td>\n",
       "    </tr>\n",
       "    <tr>\n",
       "      <th>label</th>\n",
       "      <td>0.704841</td>\n",
       "      <td>0.620702</td>\n",
       "      <td>NaN</td>\n",
       "      <td>1.000000</td>\n",
       "    </tr>\n",
       "  </tbody>\n",
       "</table>\n",
       "</div>"
      ],
      "text/plain": [
       "              0         1  sex     label\n",
       "0      1.000000  0.437656  NaN  0.704841\n",
       "1      0.437656  1.000000  NaN  0.620702\n",
       "sex         NaN       NaN  NaN       NaN\n",
       "label  0.704841  0.620702  NaN  1.000000"
      ]
     },
     "execution_count": 27,
     "metadata": {},
     "output_type": "execute_result"
    }
   ],
   "source": [
    "imputed_df[imputed_df['sex'] == 0].corr()"
   ]
  },
  {
   "cell_type": "code",
   "execution_count": 28,
   "metadata": {
    "pycharm": {
     "is_executing": true
    }
   },
   "outputs": [
    {
     "data": {
      "text/html": [
       "<div>\n",
       "<style scoped>\n",
       "    .dataframe tbody tr th:only-of-type {\n",
       "        vertical-align: middle;\n",
       "    }\n",
       "\n",
       "    .dataframe tbody tr th {\n",
       "        vertical-align: top;\n",
       "    }\n",
       "\n",
       "    .dataframe thead th {\n",
       "        text-align: right;\n",
       "    }\n",
       "</style>\n",
       "<table border=\"1\" class=\"dataframe\">\n",
       "  <thead>\n",
       "    <tr style=\"text-align: right;\">\n",
       "      <th></th>\n",
       "      <th>0</th>\n",
       "      <th>1</th>\n",
       "      <th>sex</th>\n",
       "      <th>label</th>\n",
       "    </tr>\n",
       "  </thead>\n",
       "  <tbody>\n",
       "    <tr>\n",
       "      <th>0</th>\n",
       "      <td>1.000000</td>\n",
       "      <td>0.530503</td>\n",
       "      <td>NaN</td>\n",
       "      <td>0.704707</td>\n",
       "    </tr>\n",
       "    <tr>\n",
       "      <th>1</th>\n",
       "      <td>0.530503</td>\n",
       "      <td>1.000000</td>\n",
       "      <td>NaN</td>\n",
       "      <td>0.761653</td>\n",
       "    </tr>\n",
       "    <tr>\n",
       "      <th>sex</th>\n",
       "      <td>NaN</td>\n",
       "      <td>NaN</td>\n",
       "      <td>NaN</td>\n",
       "      <td>NaN</td>\n",
       "    </tr>\n",
       "    <tr>\n",
       "      <th>label</th>\n",
       "      <td>0.704707</td>\n",
       "      <td>0.761653</td>\n",
       "      <td>NaN</td>\n",
       "      <td>1.000000</td>\n",
       "    </tr>\n",
       "  </tbody>\n",
       "</table>\n",
       "</div>"
      ],
      "text/plain": [
       "              0         1  sex     label\n",
       "0      1.000000  0.530503  NaN  0.704707\n",
       "1      0.530503  1.000000  NaN  0.761653\n",
       "sex         NaN       NaN  NaN       NaN\n",
       "label  0.704707  0.761653  NaN  1.000000"
      ]
     },
     "execution_count": 28,
     "metadata": {},
     "output_type": "execute_result"
    }
   ],
   "source": [
    "imputed_df[imputed_df['sex'] == 1].corr()"
   ]
  },
  {
   "cell_type": "code",
   "execution_count": 29,
   "metadata": {
    "pycharm": {
     "is_executing": true
    }
   },
   "outputs": [
    {
     "name": "stdout",
     "output_type": "stream",
     "text": [
      "True\n",
      "([0.029, 2.744], [5.076, 5.282], 0, 0)\n",
      "([10.017, 11.269], [4.954, 5.39], 0, 1)\n",
      "([0.024, 0.664], [4.976, 5.357], 1, 0)\n",
      "([9.838, 13.375], [4.975, 5.374], 1, 1)\n"
     ]
    },
    {
     "data": {
      "text/plain": [
       "[([0.029, 2.744], [5.076, 5.282], 0, 0),\n",
       " ([10.017, 11.269], [4.954, 5.39], 0, 1),\n",
       " ([0.024, 0.664], [4.976, 5.357], 1, 0),\n",
       " ([9.838, 13.375], [4.975, 5.374], 1, 1)]"
      ]
     },
     "execution_count": 29,
     "metadata": {},
     "output_type": "execute_result"
    }
   ],
   "source": [
    "print(all(test_fd.complete_df == test_fd.imputed_df))\n",
    "test_df = test_fd.imputed_df\n",
    "get_df_group_config(test_df)"
   ]
  },
  {
   "cell_type": "code",
   "execution_count": 30,
   "metadata": {
    "pycharm": {
     "is_executing": true
    }
   },
   "outputs": [
    {
     "name": "stdout",
     "output_type": "stream",
     "text": [
      "Method\t & \t$AC_p$\t & \t$AC_u$\t & \t$SR_p$\t & \t$SR_u$\t & \t$FPR_p$\t & \t$FPR_u$\\\\\n"
     ]
    },
    {
     "name": "stderr",
     "output_type": "stream",
     "text": [
      "invalid value encountered in double_scalars\n",
      "invalid value encountered in double_scalars\n",
      "invalid value encountered in double_scalars\n"
     ]
    },
    {
     "name": "stdout",
     "output_type": "stream",
     "text": [
      "mean\t & \t93.9\t & \t90.7\t & \t49.8\t & \t50.4\t & \t05.9\t & \t09.7\\\\\n"
     ]
    },
    {
     "name": "stderr",
     "output_type": "stream",
     "text": [
      "invalid value encountered in double_scalars\n",
      "invalid value encountered in double_scalars\n",
      "invalid value encountered in double_scalars\n"
     ]
    }
   ],
   "source": [
    "print(get_table_row(is_header=True, variable='Method'))\n",
    "# output = get_performance_summary(baseline_fd, baseline_fd, estimator, get_predictions)\n",
    "output = get_performance_summary(train_fd, test_fd, estimator, get_predictions)"
   ]
  },
  {
   "cell_type": "code",
   "execution_count": 31,
   "metadata": {
    "pycharm": {
     "is_executing": true
    }
   },
   "outputs": [],
   "source": [
    "pmod, umod, mod, _, _, _ = output"
   ]
  },
  {
   "cell_type": "code",
   "execution_count": 32,
   "metadata": {
    "pycharm": {
     "is_executing": true
    }
   },
   "outputs": [
    {
     "data": {
      "text/plain": [
       "array([[ 0.06166836,  0.70191736],\n",
       "       [10.00719692, 13.34033089]])"
      ]
     },
     "execution_count": 32,
     "metadata": {},
     "output_type": "execute_result"
    }
   ],
   "source": [
    "pmod.theta_"
   ]
  },
  {
   "cell_type": "code",
   "execution_count": 33,
   "metadata": {
    "pycharm": {
     "is_executing": true
    }
   },
   "outputs": [
    {
     "data": {
      "text/plain": [
       "array([[25.19231507, 28.45668246],\n",
       "       [24.93919714, 29.34914187]])"
      ]
     },
     "execution_count": 33,
     "metadata": {},
     "output_type": "execute_result"
    }
   ],
   "source": [
    "pmod.var_"
   ]
  },
  {
   "cell_type": "code",
   "execution_count": 34,
   "metadata": {
    "pycharm": {
     "is_executing": true
    }
   },
   "outputs": [
    {
     "data": {
      "text/plain": [
       "array([[ 0.03390226,  2.78573889],\n",
       "       [10.06085585, 11.07673408]])"
      ]
     },
     "execution_count": 34,
     "metadata": {},
     "output_type": "execute_result"
    }
   ],
   "source": [
    "umod.theta_"
   ]
  },
  {
   "cell_type": "code",
   "execution_count": 35,
   "metadata": {
    "pycharm": {
     "is_executing": true
    }
   },
   "outputs": [
    {
     "data": {
      "text/plain": [
       "array([[25.16434745, 27.61256357],\n",
       "       [25.75291701, 27.22795575]])"
      ]
     },
     "execution_count": 35,
     "metadata": {},
     "output_type": "execute_result"
    }
   ],
   "source": [
    "umod.var_"
   ]
  },
  {
   "cell_type": "code",
   "execution_count": 36,
   "metadata": {
    "pycharm": {
     "is_executing": true
    }
   },
   "outputs": [
    {
     "data": {
      "text/plain": [
       "array([[ 0.04778531,  1.74382812],\n",
       "       [10.03402638, 12.20853249]])"
      ]
     },
     "execution_count": 36,
     "metadata": {},
     "output_type": "execute_result"
    }
   ],
   "source": [
    "mod.theta_"
   ]
  },
  {
   "cell_type": "code",
   "execution_count": 37,
   "metadata": {
    "pycharm": {
     "is_executing": true
    }
   },
   "outputs": [
    {
     "data": {
      "text/plain": [
       "array([[25.17852399, 29.12020106],\n",
       "       [25.34677689, 29.56951644]])"
      ]
     },
     "execution_count": 37,
     "metadata": {},
     "output_type": "execute_result"
    }
   ],
   "source": [
    "mod.var_"
   ]
  },
  {
   "cell_type": "code",
   "execution_count": 38,
   "metadata": {
    "pycharm": {
     "is_executing": true
    }
   },
   "outputs": [
    {
     "name": "stdout",
     "output_type": "stream",
     "text": [
      "([0.029, 2.744], [5.076, 5.282], 0, 0)\n",
      "([10.017, 11.269], [4.954, 5.39], 0, 1)\n",
      "([0.024, 0.664], [4.976, 5.357], 1, 0)\n",
      "([9.838, 13.375], [4.975, 5.374], 1, 1)\n",
      "[[[list([0.029, 2.744]) list([5.076, 5.282]) 0 0]\n",
      "  [list([10.017, 11.269]) list([4.954, 5.39]) 0 1]]\n",
      "\n",
      " [[list([0.024, 0.664]) list([4.976, 5.357]) 1 0]\n",
      "  [list([9.838, 13.375]) list([4.975, 5.374]) 1 1]]]\n",
      "[5.04090585 6.9761803 ]\n",
      "[<AxesSubplot:title={'center':'Test Scores'}, ylabel='Unprivileged'>, <AxesSubplot:title={'center':'GPA'}>, <AxesSubplot:ylabel='Privileged'>, <AxesSubplot:>]\n",
      "5.04090584716259\n",
      "5.04090584716259\n",
      "6.976180304477843\n",
      "6.976180304477843\n"
     ]
    },
    {
     "name": "stderr",
     "output_type": "stream",
     "text": [
      "Creating an ndarray from ragged nested sequences (which is a list-or-tuple of lists-or-tuples-or ndarrays with different lengths or shapes) is deprecated. If you meant to do this, you must specify 'dtype=object' when creating the ndarray.\n"
     ]
    },
    {
     "data": {
      "image/png": "[encoded data removed]",
      "text/plain": [
       "<Figure size 640x480 with 4 Axes>"
      ]
     },
     "metadata": {},
     "output_type": "display_data"
    }
   ],
   "source": [
    "group_configs = get_df_group_config(test_fd.imputed_df)\n",
    "plot_group_config(group_configs)\n",
    "figure = plt.gcf()\n",
    "axes = figure.get_axes()\n",
    "means = np.mean(mod.theta_, axis=0)\n",
    "print(means)\n",
    "print(axes)\n",
    "for i in [0, 1]:\n",
    "    for j in [0, 1]:\n",
    "        print(means[i])\n",
    "        axes[2*i + j].axvline(means[j])"
   ]
  },
  {
   "cell_type": "markdown",
   "metadata": {},
   "source": [
    "Gamma is complete case probability"
   ]
  },
  {
   "cell_type": "code",
   "execution_count": 39,
   "metadata": {
    "pycharm": {
     "is_executing": true
    }
   },
   "outputs": [],
   "source": [
    "alpha = 0.25\n",
    "beta = 1\n",
    "alpha_y = np.array([[alpha], [1-alpha]])\n",
    "prob_s = np.array([1/(1+beta), beta/(1+beta)])\n",
    "gamma_s = np.array([0.9, 0.6])"
   ]
  },
  {
   "cell_type": "code",
   "execution_count": 40,
   "metadata": {
    "pycharm": {
     "is_executing": true
    }
   },
   "outputs": [],
   "source": [
    "mu = np.array([[[1, 2], [11, 12]],\n",
    "               [[0, 3], [10, 13]]])\n",
    "\n",
    "var = np.array([[[3, 3], [3, 3]],\n",
    "                [[3, 3], [3, 3]]])"
   ]
  },
  {
   "cell_type": "code",
   "execution_count": 41,
   "metadata": {
    "pycharm": {
     "is_executing": true
    }
   },
   "outputs": [
    {
     "name": "stdout",
     "output_type": "stream",
     "text": [
      "[10.5 12.5] [0.5 2.5]\n"
     ]
    }
   ],
   "source": [
    "mu_plus = (prob_s * mu[:, 1]).sum(axis=0)\n",
    "mu_minus = (prob_s * mu[:, 0]).sum(axis=0)\n",
    "print(mu_plus, mu_minus)"
   ]
  },
  {
   "cell_type": "code",
   "execution_count": 42,
   "metadata": {
    "pycharm": {
     "is_executing": true
    }
   },
   "outputs": [
    {
     "name": "stdout",
     "output_type": "stream",
     "text": [
      "[[ 8.5  9.5]\n",
      " [ 7.5 10.5]]\n"
     ]
    }
   ],
   "source": [
    "mu_s = (alpha_y * mu).sum(axis=1)\n",
    "print(mu_s)"
   ]
  },
  {
   "cell_type": "markdown",
   "metadata": {},
   "source": [
    "$\\newcommand{\\bvec}[1]{\\boldsymbol{\\mathrm{#1}}}\n",
    "\\newcommand{\\redtext}[1]{\\color{red}#1\\color{black}}\n",
    "\\newcommand{\\numberthis}[0]{\\stepcounter{equation}\\tag{\\theequation}}\n",
    "\\newcommand{\\mynorm}[1]{\\mid \\mid #1 \\mid \\mid}\n",
    "\\newcommand{\\dep}{\\perp \\!\\!\\! \\perp}\n",
    "\\newcommand{\\indep}{\\centernot{\\dep}}\n",
    "\\newcommand{\\dsP}{P}\n",
    "\\newcommand{\\dsE}{E}$\n",
    "\\begin{align*}\n",
    "\\dsE[\\bvec{x} | \\bvec{r} = \\bar{0}] =& \\sum_{s}{\\dfrac{\\gamma_s\\dsP(s)}{\\sum_{s}{\\gamma_s \\dsP(s)}}\\mu^{s}}\\\\\n",
    "\\end{align*}\n"
   ]
  },
  {
   "cell_type": "code",
   "execution_count": 43,
   "metadata": {
    "pycharm": {
     "is_executing": true
    }
   },
   "outputs": [
    {
     "name": "stdout",
     "output_type": "stream",
     "text": [
      "mu_impute [[7.65 5.7 ]\n",
      " [6.75 6.3 ]]\n",
      "mu_s_imputed [[4.2075 3.99  ]\n",
      " [3.7125 4.41  ]]\n",
      "mu_dash 16.32\n"
     ]
    },
    {
     "ename": "ValueError",
     "evalue": "The truth value of an array with more than one element is ambiguous. Use a.any() or a.all()",
     "output_type": "error",
     "traceback": [
      "\u001b[1;31m---------------------------------------------------------------------------\u001b[0m",
      "\u001b[1;31mValueError\u001b[0m                                Traceback (most recent call last)",
      "\u001b[1;32m~\\AppData\\Local\\Temp\\ipykernel_20920\\155257535.py\u001b[0m in \u001b[0;36m<module>\u001b[1;34m\u001b[0m\n\u001b[0;32m      7\u001b[0m \u001b[0mmu_dash\u001b[0m \u001b[1;33m=\u001b[0m \u001b[0mmu_s_imputed\u001b[0m\u001b[1;33m.\u001b[0m\u001b[0msum\u001b[0m\u001b[1;33m(\u001b[0m\u001b[1;33m)\u001b[0m\u001b[1;33m\u001b[0m\u001b[0m\n\u001b[0;32m      8\u001b[0m \u001b[0mprint\u001b[0m\u001b[1;33m(\u001b[0m\u001b[1;34m'mu_dash'\u001b[0m\u001b[1;33m,\u001b[0m \u001b[0mmu_dash\u001b[0m\u001b[1;33m)\u001b[0m\u001b[1;33m\u001b[0m\u001b[0m\n\u001b[1;32m----> 9\u001b[1;33m \u001b[1;32massert\u001b[0m \u001b[0mmu_impute\u001b[0m \u001b[1;33m==\u001b[0m \u001b[0mmu_dash\u001b[0m\u001b[1;33m\u001b[0m\u001b[0m\n\u001b[0m",
      "\u001b[1;31mValueError\u001b[0m: The truth value of an array with more than one element is ambiguous. Use a.any() or a.all()"
     ]
    }
   ],
   "source": [
    "# mu_impute = ((prob_s * gamma_s * mu_s)/ (prob_s * gamma_s).sum()).sum()\n",
    "mu_impute = gamma_s * mu_s\n",
    "print('mu_impute', mu_impute)\n",
    "\n",
    "mu_s_imputed = (prob_s * gamma_s) * mu_s + prob_s * (1 - gamma_s) * mu_impute\n",
    "print('mu_s_imputed', mu_s_imputed)\n",
    "mu_dash = mu_s_imputed.sum()\n",
    "print('mu_dash', mu_dash)\n",
    "assert mu_impute == mu_dash"
   ]
  },
  {
   "cell_type": "markdown",
   "metadata": {
    "pycharm": {
     "is_executing": true
    }
   },
   "source": [
    "\\begin{align*}\n",
    "\\dsE[\\bvec{x}^\\prime \\mid s, y] &= \\sum_{\\bvec{r}}{\\dsP(\\bvec{r} \\mid s, y)\\dsE[\\bvec{x}^\\prime \\mid \\bvec{r}, s, y]}\\\\\n",
    "&= \\left[\\dsP(\\bvec{r}=\\bar{0}|s) \\dsE[\\bvec{x}' \\mid s, y, \\bvec{r}=\\bar{0}] + \\dsP(\\bvec{r} \\neq 0 | s) \\dsE[\\bvec{x}' \\mid s, y, \\bvec{r} \\neq 0]\\right]\\\\\n",
    "&= \\gamma_s \\dsE[\\bvec{x} \\mid s, y] + (1-\\gamma_s) \\mu_{\\bvec{r}=0}\\\\\n",
    "\\end{align*}\n"
   ]
  },
  {
   "cell_type": "code",
   "execution_count": null,
   "metadata": {
    "pycharm": {
     "is_executing": true
    }
   },
   "outputs": [],
   "source": [
    "display(Math(r'$E[x^\\prime | s, +]$'))\n",
    "mu_prime_s_plus = gamma_s * mu_plus + (1-gamma_s) * mu_impute\n",
    "print(mu_prime_s_plus)\n",
    "\n",
    "display(Math(r'$E[x^\\prime | s, -]$'))\n",
    "mu_prime_s_minus = gamma_s * mu_minus + (1-gamma_s) * mu_impute\n",
    "print(mu_prime_s_minus)"
   ]
  },
  {
   "cell_type": "markdown",
   "metadata": {},
   "source": [
    "\\begin{align*}\n",
    "E[\\bvec{x}^{\\prime} \\mid y] =& \\sum_s{P(s) E[\\bvec{x}^{\\prime} \\mid s, y]}\\\\\n",
    "=& P(p) E[\\bvec{x}^{\\prime} \\mid p, y] + P(u) E[\\bvec{x}^{\\prime} \\mid u, y]\\\\\n",
    "=& \\dfrac{\\beta}{1+\\beta} E[\\bvec{x}^{\\prime} \\mid p, y] + \\dfrac{1}{1+\\beta} E[\\bvec{x}^{\\prime} \\mid u, y]\n",
    "\\end{align*}"
   ]
  },
  {
   "cell_type": "code",
   "execution_count": null,
   "metadata": {
    "pycharm": {
     "is_executing": true
    }
   },
   "outputs": [],
   "source": [
    "prob_s * mu_prime_s_plus + (1-prob_s) * mu_prime_s_minus"
   ]
  },
  {
   "cell_type": "code",
   "execution_count": null,
   "metadata": {
    "pycharm": {
     "is_executing": true
    }
   },
   "outputs": [],
   "source": [
    "# group_config = get_df_group_config(imputed_df)\n",
    "# plot_group_config(group_config)\n",
    "# plt.gca()\n",
    "# mus = mod.theta_.mean(axis=0)\n",
    "# decision_mus = np.array([mus, mus]).flatten()\n",
    "# for a, x_line in zip(plt.gcf().get_axes(), decision_mus):\n",
    "#     a.vlines(x_line, -1, 1)"
   ]
  },
  {
   "cell_type": "code",
   "execution_count": null,
   "metadata": {
    "pycharm": {
     "is_executing": true
    }
   },
   "outputs": [],
   "source": [
    "get_df_group_config(imputed_df)"
   ]
  },
  {
   "cell_type": "code",
   "execution_count": null,
   "metadata": {
    "pycharm": {
     "is_executing": true
    }
   },
   "outputs": [],
   "source": [
    "group_config = [\n",
    "    ([0, 0], [3, 3], 0, 0),\n",
    "    ([0, 0], [3, 3], 1, 0),\n",
    "    ([10, 13], [3, 3], 0, 1),\n",
    "    ([10, 13], [3, 3], 1, 1)\n",
    "]\n",
    "group_config = get_df_group_config(imputed_df)\n",
    "plot_group_config(group_config)\n",
    "plt.gca()\n",
    "mus = mod.theta_.mean(axis=0)\n",
    "decision_mus = np.array([mus, mus]).flatten()\n",
    "for a, x_line in zip(plt.gcf().get_axes(), decision_mus):\n",
    "    a.vlines(x_line, -1, 1)"
   ]
  },
  {
   "cell_type": "markdown",
   "metadata": {
    "pycharm": {
     "is_executing": true
    }
   },
   "source": [
    "Test data"
   ]
  },
  {
   "cell_type": "code",
   "execution_count": null,
   "metadata": {
    "pycharm": {
     "is_executing": true
    }
   },
   "outputs": [],
   "source": [
    "alpha = 0.5\n",
    "beta = 1\n",
    "alpha_y = np.array([[alpha], [1-alpha]])\n",
    "prob_s = np.array([1/(1+beta), beta/(1+beta)])\n",
    "gamma_s = np.array([1, 0.6])"
   ]
  },
  {
   "cell_type": "code",
   "execution_count": null,
   "metadata": {
    "pycharm": {
     "is_executing": true
    }
   },
   "outputs": [],
   "source": [
    "df = pd.read_csv('data.tsv', sep='\\t')\n",
    "print(df)"
   ]
  },
  {
   "cell_type": "code",
   "execution_count": null,
   "metadata": {
    "pycharm": {
     "is_executing": true
    }
   },
   "outputs": [],
   "source": [
    "def get_column_stats(df, column):\n",
    "    statistics = []\n",
    "    for (s, y), grp in df.groupby(['s', 'y']):\n",
    "        statistics.append([s, y, grp[column].mean(), grp[column].var()])\n",
    "\n",
    "    for s, grp in df.groupby(['s']):\n",
    "        statistics.append([s, -1, grp[column].mean(), grp[column].var()])\n",
    "\n",
    "    for y, grp in df.groupby(['y']):\n",
    "        statistics.append([-1, y, grp[column].mean(), grp[column].var()])\n",
    "\n",
    "    statistics.append([-1, -1, df[column].mean(), df[column].var()])\n",
    "\n",
    "    statistics = pd.DataFrame(statistics, columns=['s', 'y', 'mean', 'var'])\n",
    "    return statistics"
   ]
  },
  {
   "cell_type": "code",
   "execution_count": null,
   "metadata": {
    "pycharm": {
     "is_executing": true
    }
   },
   "outputs": [],
   "source": [
    "orig_stats = get_column_stats(df, 'x_orig')\n",
    "orig_stats"
   ]
  },
  {
   "cell_type": "markdown",
   "metadata": {},
   "source": [
    "$\\newcommand{\\bvec}[1]{\\boldsymbol{\\mathrm{#1}}}\n",
    "\\newcommand{\\redtext}[1]{\\color{red}#1\\color{black}}\n",
    "\\newcommand{\\numberthis}[0]{\\stepcounter{equation}\\tag{\\theequation}}\n",
    "\\newcommand{\\mynorm}[1]{\\mid \\mid #1 \\mid \\mid}\n",
    "\\newcommand{\\dep}{\\perp \\!\\!\\! \\perp}\n",
    "\\newcommand{\\indep}{\\centernot{\\dep}}\n",
    "\\newcommand{\\dsP}{P}\n",
    "\\newcommand{\\dsE}{E}$\n",
    "\\begin{align*}\n",
    "\\dsE[\\bvec{x} | \\bvec{r} = \\bar{0}] =& \\sum_{s}{\\dfrac{\\gamma_s\\dsP(s)}{\\sum_{s}{\\gamma_s \\dsP(s)}}\\mu^{s}}\\\\\n",
    "\\end{align*}\n"
   ]
  },
  {
   "cell_type": "code",
   "execution_count": null,
   "metadata": {
    "pycharm": {
     "is_executing": true
    }
   },
   "outputs": [],
   "source": [
    "orig_stats_s = orig_stats[(orig_stats['s'] != -1) & (orig_stats['y'] == -1)]\n",
    "mu_impute = (gamma_s * prob_s * orig_stats_s['mean'].values / (gamma_s * prob_s).sum()).sum()\n",
    "mu_impute"
   ]
  },
  {
   "cell_type": "code",
   "execution_count": null,
   "metadata": {
    "pycharm": {
     "is_executing": true
    }
   },
   "outputs": [],
   "source": [
    "get_column_stats(df, 'x_miss')"
   ]
  },
  {
   "cell_type": "markdown",
   "metadata": {},
   "source": [
    "Random"
   ]
  },
  {
   "cell_type": "code",
   "execution_count": null,
   "metadata": {},
   "outputs": [],
   "source": [
    "mu_p_1 = 13\n",
    "mu_p_0 = 3\n",
    "mu_u_1 = 10\n",
    "mu_u_0 = 0"
   ]
  },
  {
   "cell_type": "code",
   "execution_count": null,
   "metadata": {},
   "outputs": [],
   "source": [
    "gamma_p = 0.9\n",
    "gamma_u = 0.7\n",
    "alpha = 0.5"
   ]
  },
  {
   "cell_type": "code",
   "execution_count": null,
   "metadata": {},
   "outputs": [],
   "source": [
    "mu_p = alpha * mu_p_1 + (1-alpha)*mu_p_0\n",
    "mu_u = alpha * mu_u_1 + (1-alpha)*mu_u_0"
   ]
  },
  {
   "cell_type": "code",
   "execution_count": null,
   "metadata": {},
   "outputs": [],
   "source": [
    "mu_p, mu_u"
   ]
  },
  {
   "cell_type": "code",
   "execution_count": null,
   "metadata": {},
   "outputs": [],
   "source": [
    "mu_m = (gamma_p * mu_p + gamma_u * mu_u) / (gamma_p + gamma_u)"
   ]
  },
  {
   "cell_type": "code",
   "execution_count": null,
   "metadata": {},
   "outputs": [],
   "source": [
    "term_1 = (mu_p_1 + mu_u_1) - 2*mu_m "
   ]
  },
  {
   "cell_type": "code",
   "execution_count": null,
   "metadata": {},
   "outputs": [],
   "source": [
    "term_2 = -(gamma_p * mu_p_1 + gamma_u * mu_u_1) + (gamma_p + gamma_u) * mu_m"
   ]
  },
  {
   "cell_type": "code",
   "execution_count": null,
   "metadata": {},
   "outputs": [],
   "source": [
    "term_1 > term_2"
   ]
  },
  {
   "cell_type": "code",
   "execution_count": null,
   "metadata": {},
   "outputs": [],
   "source": [
    "mu_1_prime = 0.5*(gamma_p * mu_p_1 + gamma_u * mu_u_1) + (1 - (gamma_p + gamma_u)/ 2) * mu_m"
   ]
  },
  {
   "cell_type": "code",
   "execution_count": null,
   "metadata": {},
   "outputs": [],
   "source": [
    "mu_1_prime"
   ]
  },
  {
   "cell_type": "code",
   "execution_count": null,
   "metadata": {},
   "outputs": [],
   "source": [
    "mu_p_1_prime = gamma_p * mu_p_1 + (1-gamma_p) * mu_m\n",
    "mu_p_0_prime = gamma_p * mu_p_0 + (1-gamma_p) * mu_m"
   ]
  },
  {
   "cell_type": "code",
   "execution_count": null,
   "metadata": {},
   "outputs": [],
   "source": [
    "mu_p_1_prime, mu_p_0_prime"
   ]
  },
  {
   "cell_type": "code",
   "execution_count": null,
   "metadata": {},
   "outputs": [],
   "source": [
    "mu_u_1_prime = gamma_u * mu_u_1 + (1-gamma_u) * mu_m\n",
    "mu_u_0_prime = gamma_u * mu_u_0 + (1-gamma_u) * mu_m"
   ]
  },
  {
   "cell_type": "code",
   "execution_count": null,
   "metadata": {},
   "outputs": [],
   "source": [
    "mu_u_1_prime, mu_u_0_prime"
   ]
  },
  {
   "cell_type": "code",
   "execution_count": null,
   "metadata": {},
   "outputs": [],
   "source": [
    "mu_1_prime = (gamma_p * mu_p_1_prime + gamma_u * mu_u_1_prime)/(gamma_p + gamma_u) "
   ]
  },
  {
   "cell_type": "code",
   "execution_count": null,
   "metadata": {},
   "outputs": [],
   "source": [
    "mu_1_prime"
   ]
  },
  {
   "cell_type": "code",
   "execution_count": null,
   "metadata": {},
   "outputs": [],
   "source": [
    "mu_0_prime = (gamma_p * mu_p_0_prime + gamma_u * mu_u_0_prime)/(gamma_p + gamma_u) "
   ]
  },
  {
   "cell_type": "code",
   "execution_count": null,
   "metadata": {},
   "outputs": [],
   "source": [
    "mu_0_prime"
   ]
  },
  {
   "cell_type": "code",
   "execution_count": null,
   "metadata": {},
   "outputs": [],
   "source": [
    "(mu_p_1 - mu_1_prime)**2"
   ]
  },
  {
   "cell_type": "code",
   "execution_count": null,
   "metadata": {},
   "outputs": [],
   "source": [
    "(mu_u_1 - mu_1_prime)**2"
   ]
  },
  {
   "cell_type": "code",
   "execution_count": null,
   "metadata": {},
   "outputs": [],
   "source": []
  }
 ],
 "metadata": {
  "kernelspec": {
   "display_name": "Python 3 (ipykernel)",
   "language": "python",
   "name": "python3"
  },
  "language_info": {
   "codemirror_mode": {
    "name": "ipython",
    "version": 3
   },
   "file_extension": ".py",
   "mimetype": "text/x-python",
   "name": "python",
   "nbconvert_exporter": "python",
   "pygments_lexer": "ipython3",
   "version": "3.7.0"
  }
 },
 "nbformat": 4,
 "nbformat_minor": 1
}
